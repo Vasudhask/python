{
 "cells": [
  {
   "cell_type": "markdown",
   "id": "3639f431",
   "metadata": {},
   "source": [
    "## DATA TYPES"
   ]
  },
  {
   "cell_type": "markdown",
   "id": "de96603d",
   "metadata": {},
   "source": [
    "1. Numerical: int, float, complex\n",
    "2. Boolean: bool (True/False)\n",
    "3. Text: str\n",
    "4. Sequential: list, tuple, range\n",
    "5. Mapping: Dict\n",
    "6. Set: set, frozenset\n",
    "7. Binary: bytes, bytearray, memoryview"
   ]
  },
  {
   "cell_type": "markdown",
   "id": "a05d2769",
   "metadata": {},
   "source": [
    "### NUM"
   ]
  },
  {
   "cell_type": "code",
   "execution_count": null,
   "id": "5ca08d53",
   "metadata": {},
   "outputs": [],
   "source": [
    "#Numeric Types\n",
    "type(12)  #int\n",
    "type(1.2) #float\n",
    "type(1+9j) #complex\n",
    "type(\"Vasudha\") #string\n",
    "type(\"1.2+100-25\") #string\n",
    "type(1.2+100-25j) #complex\n",
    "\n",
    "#Algebraic operations\n",
    "a=90\n",
    "b=4\n",
    "print(a+b) #addition\n",
    "print(a-b) #subtraction\n",
    "print(a*b) #multiplication\n",
    "print(a/b) #division\n",
    "print(a%2) #remainder\n",
    "print(a//b) ##floor division: ignores the decimal points\n",
    "print((a+b)**2) #exponential\n",
    "\n",
    "#Memory\n",
    "a=12\n",
    "b=\"hello\"\n",
    "print(id(a)) #address of int and string is very very apart\n",
    "print(id(b)) #id means address\n",
    "\n",
    "#Increment and Decrement\n",
    "i=1\n",
    "i+=1 # '+=' is the syntax\n",
    "j=5\n",
    "j*=3\n",
    "print(i) #i=2\n",
    "print(j) #j=15"
   ]
  },
  {
   "cell_type": "code",
   "execution_count": null,
   "id": "58ee75ba",
   "metadata": {},
   "outputs": [],
   "source": [
    "#Logical Operations on NUM\n",
    "a=10\n",
    "b=6\n",
    "print(a&b) #AND gate\n",
    "print(a|b) #OR gate\n",
    "print(a^b) #XOR gate\n",
    "print(~a) #NOT\n",
    "print(7<<2) #right shift,binary bits get shifted right twice\n",
    "print(4>>1) #left shift, binary bits get shifted left once\n",
    "\n",
    "#Input Options\n",
    "m=eval(input(\"Enter value\")) #eval: depending on input it'll assume the datatype\n",
    "n=eval(input (\"Enter value\"))\n",
    "print(m+n)"
   ]
  },
  {
   "cell_type": "markdown",
   "id": "30934bbc",
   "metadata": {},
   "source": [
    "### BOOLEAN"
   ]
  },
  {
   "cell_type": "code",
   "execution_count": null,
   "id": "20850bab",
   "metadata": {},
   "outputs": [],
   "source": [
    "#BOOLEAN\n",
    "type(True)\n",
    "type(False)\n",
    "type(1>5) #Just writing 1>5 without type gives output False\n",
    "1>5"
   ]
  },
  {
   "cell_type": "code",
   "execution_count": null,
   "id": "db9405a9",
   "metadata": {},
   "outputs": [],
   "source": [
    "#Identity operator\n",
    "data=[1,2,3]\n",
    "tata=data\n",
    "print(id(data))\n",
    "print(id(tata))\n",
    "data_2 = tata.copy()\n",
    "print(id(data_2))\n",
    "print(data is tata)\n",
    "print(data is not data_2)"
   ]
  },
  {
   "cell_type": "markdown",
   "id": "c05fd0fe",
   "metadata": {},
   "source": [
    "### STRINGS"
   ]
  },
  {
   "cell_type": "code",
   "execution_count": null,
   "id": "e292e32b",
   "metadata": {},
   "outputs": [],
   "source": [
    "'Hey' #wont work if you have a single quote in the sentence, eg: I've been wanting to master python. The ' in I've\n",
    "\"Wassup\" #hence, use double quotes\n",
    "''' how much wood\n",
    "would a wood chuck chuck\n",
    "if a wood chuck could chuck wood'''  #triple quotes is for a multi-line string"
   ]
  },
  {
   "cell_type": "code",
   "execution_count": null,
   "id": "de2395aa",
   "metadata": {},
   "outputs": [],
   "source": [
    "#DOC Strings and Multiline\n",
    "\n",
    "#to remove that \\n and all, make a variable called multiline and then print that \n",
    "multiline='''how much wood\n",
    "would a wood chuck chuck\n",
    "if a wood chuck could chuck wood?'''\n",
    "print(multiline)"
   ]
  },
  {
   "cell_type": "code",
   "execution_count": null,
   "id": "e6cec81f",
   "metadata": {},
   "outputs": [],
   "source": [
    "#Concatenation\n",
    "name=\"Sam\"\n",
    "place=\"Bangalore\"\n",
    "print(\"Welcome \" + name+ \"to \" +place) \n",
    "\n",
    "#Dot format\n",
    "print(\"Welcome {} to {}\".format(name, place))\n",
    "\n",
    "#F string\n",
    "print(f\"Welcome {name} to {place}\")"
   ]
  },
  {
   "cell_type": "code",
   "execution_count": null,
   "id": "0bf35d75",
   "metadata": {},
   "outputs": [],
   "source": [
    "#Indexing\n",
    "a=\"Hello world \"\n",
    "print(a[:11]) \n",
    "print(a[2:6])\n",
    "print(a[7:])\n",
    "print(a[-4])\n",
    "print(a[6::2]) #skips next, prints 'wrd'\n",
    "\n",
    "#length of string\n",
    "print(len(a))\n",
    "\n",
    "#Palindrome\n",
    "data=\"hello world\"\n",
    "data[::-1]\n",
    "\n",
    "a=\"Hello people \"\n",
    "print(a*3)\n",
    "print(a+a)\n",
    "a.capitalize() \n",
    "a.upper()\n",
    "a.lower() # a.casefold()\n",
    "a.swapcase() #switches upper case to lower case and vice versa\n",
    "a.title() #converts the first letter of every word as caps\n",
    "a.count('l')\n",
    "a.startswith(\"h\") \n",
    "a.endswith(\".\")\n",
    "a.expandtabs(5) #how many number of tabs between the two letters, here, 5 spaces\n",
    "a.zfill(10) #total characters should be (10) rest of data will be filled with zero. Hello becomes 00000Hello\n",
    "\n",
    "a.find(\"l\") #from left side, the first occurence\n",
    "a.rfind('l') #from right, the first occurence\n",
    "a.index(\"l\") #diff between index and find is, if you enter a value thats not in the string, index throws error, find shows -1\n",
    "a.isprintable()\n",
    "a.replace(\"l\",'i')\n",
    "\n",
    "a=\"hello\"\n",
    "a.ljust(10) #right adjust spaces\n",
    "a.rjust(10) #left adjust spaces\n",
    "a.strip() #removes extra spaces\n",
    "a.split(\"l\") #converts string to list\n",
    "a.splitlines() #splits \\n into variables in list (useful in file handling)\n",
    "\n",
    "data=\"1x\"\n",
    "data.isalnum() #no special characters like space is allowed only alphabet and numbers\n",
    "data=\"sss \"\n",
    "data.isascii()\n",
    "data= \"ಶುಭೋದಯ\" #kannada,etc,anything not in keyboard values\n",
    "data.isascii()\n",
    "\n",
    "data=\"data\"\n",
    "data.isidentifier()  #is it a valid variable name or not\n",
    "data=\"1data\"\n",
    "data.isidentifier()  #\"1data\" is an invalid variable name"
   ]
  },
  {
   "cell_type": "code",
   "execution_count": null,
   "id": "555286c0",
   "metadata": {},
   "outputs": [],
   "source": [
    "#to sort the numbers in string in ascending order\n",
    "data=\"9 10 39 49 22 11\".split()\n",
    "temp=[eval(x) for x in data]\n",
    "temp.sort()\n",
    "res=\" \".join([str(x) for x in temp])\n",
    "print(res)"
   ]
  },
  {
   "cell_type": "markdown",
   "id": "932f14ad",
   "metadata": {},
   "source": [
    "### LOOPS"
   ]
  },
  {
   "cell_type": "code",
   "execution_count": null,
   "id": "92f535d2",
   "metadata": {},
   "outputs": [],
   "source": [
    "#looping through characters\n",
    "frt=\"banana\"\n",
    "for i in frt:\n",
    "    print(i)\n",
    "    \n",
    "data=\"jh23ij34nj\"\n",
    "res=\" \"\n",
    "for x in data:\n",
    "    if x.isdigit():\n",
    "        res+=x\n",
    "    else: \n",
    "        res+=\" \"\n",
    "    print(res)"
   ]
  },
  {
   "cell_type": "code",
   "execution_count": null,
   "id": "7d694499",
   "metadata": {},
   "outputs": [],
   "source": [
    "#Examples\n",
    "data=\"file path\"\n",
    "data.split(\"/\")[-1]\n",
    "\n",
    "data=\"vasoosk@gmail.com\"\n",
    "data.split('@')[0]+\"@ outlook.com\"\n",
    "\n",
    "data=\"23.3 22 54\"\n",
    "data.split()\n",
    "\n",
    "data= \"    hello\"\n",
    "length= len(data)\n",
    "data.strip().capitalize().rjust(length)"
   ]
  },
  {
   "cell_type": "code",
   "execution_count": 60,
   "id": "c414f5cd",
   "metadata": {},
   "outputs": [
    {
     "name": "stdout",
     "output_type": "stream",
     "text": [
      "56\n"
     ]
    }
   ],
   "source": [
    "#To get sum of digits in my phone number\n",
    "data=\"7259249765\"\n",
    "res=0\n",
    "for i in data:\n",
    "    res+=int(i)\n",
    "print(res)"
   ]
  },
  {
   "cell_type": "code",
   "execution_count": 62,
   "id": "0ca25577",
   "metadata": {},
   "outputs": [
    {
     "name": "stdout",
     "output_type": "stream",
     "text": [
      "w is repeated 1 times\n",
      "o is repeated 2 times\n",
      "e is repeated 1 times\n",
      "h is repeated 1 times\n",
      "l is repeated 3 times\n",
      "r is repeated 1 times\n",
      "  is repeated 1 times\n",
      "d is repeated 1 times\n"
     ]
    }
   ],
   "source": [
    "#To see how many times each letter repeats in \"hello world\"\n",
    "data=\"hello world\"\n",
    "for x in set(data):\n",
    "    print(f\"{x} is repeated {data.count(x)} times\")"
   ]
  },
  {
   "cell_type": "code",
   "execution_count": 21,
   "id": "a19e5050",
   "metadata": {},
   "outputs": [
    {
     "name": "stdout",
     "output_type": "stream",
     "text": [
      "file1.txt\n",
      "file4.txt\n"
     ]
    }
   ],
   "source": [
    "#to print the ones that ends with .txt\n",
    "\n",
    "data=[\"file1.txt\",\"file2.png\",\"file3.pdf\",\"file4.txt\"]\n",
    "for x in data:\n",
    "    if x.endswith(\".txt\"):\n",
    "        print(x)"
   ]
  },
  {
   "cell_type": "code",
   "execution_count": 28,
   "id": "5e79cba2",
   "metadata": {},
   "outputs": [
    {
     "name": "stdout",
     "output_type": "stream",
     "text": [
      "e\n",
      "p\n"
     ]
    }
   ],
   "source": [
    "#count only the letters that repeat and count them only once\n",
    "data=\"applee\"\n",
    "for x in set(data):\n",
    "    if(data.count(x)>1):\n",
    "        print(x)  "
   ]
  },
  {
   "cell_type": "code",
   "execution_count": 67,
   "id": "2754168c",
   "metadata": {},
   "outputs": [
    {
     "name": "stdout",
     "output_type": "stream",
     "text": [
      "4\n",
      "5\n",
      "6\n"
     ]
    }
   ],
   "source": [
    "#nested for loop: to find sum of values in each element of set\n",
    "data=[\"121\",\"131\",\"141\"]\n",
    "for i in data:\n",
    "    res=0\n",
    "    for x in i:\n",
    "        res+=int(x)\n",
    "    print(res)"
   ]
  },
  {
   "cell_type": "code",
   "execution_count": 1,
   "id": "6bb1a811",
   "metadata": {},
   "outputs": [
    {
     "name": "stdout",
     "output_type": "stream",
     "text": [
      "24\n"
     ]
    }
   ],
   "source": [
    "#to print the product of all non-zero values in the list (int)\n",
    "data=[1,2,3,0,2.3,0,2]\n",
    "res=1\n",
    "for x in data:\n",
    "    if(x!=0):\n",
    "        res*=int(x)\n",
    "print(res)"
   ]
  },
  {
   "cell_type": "code",
   "execution_count": 66,
   "id": "b1805993",
   "metadata": {},
   "outputs": [
    {
     "name": "stdout",
     "output_type": "stream",
     "text": [
      "6480\n"
     ]
    },
    {
     "data": {
      "text/plain": [
       "int"
      ]
     },
     "execution_count": 66,
     "metadata": {},
     "output_type": "execute_result"
    }
   ],
   "source": [
    "#to print the product of all non-zero values in the list\n",
    "data=[2,3,4,5,6,0,0,3,3]\n",
    "res=1\n",
    "for x in data:\n",
    "    if(x!=0):\n",
    "        res*=int(x)\n",
    "print(res)"
   ]
  },
  {
   "cell_type": "markdown",
   "id": "bbd4d3fd",
   "metadata": {},
   "source": [
    "### LISTS"
   ]
  },
  {
   "cell_type": "markdown",
   "id": "7142a581",
   "metadata": {},
   "source": [
    "Functions performed on lists:\n",
    "\n",
    "Deep and Shallow copy\n",
    "ID-Address\n",
    "Membership/In operator\n",
    "Count\n",
    "Extend\n",
    "Dir\n",
    "Index\n",
    "Insert\n",
    "Pop\n",
    "Remove \n",
    "Sort\n",
    "Clear "
   ]
  },
  {
   "cell_type": "code",
   "execution_count": 1,
   "id": "0a26bb84",
   "metadata": {},
   "outputs": [
    {
     "name": "stdout",
     "output_type": "stream",
     "text": [
      "[3, 4, 5, 6, 7, 8]\n",
      "2591400077568\n"
     ]
    }
   ],
   "source": [
    "#list,mutable,ordered\n",
    "data=[3,4,5,6,7,8]\n",
    "print(data)\n",
    "print(id(data)) #address of the data"
   ]
  },
  {
   "cell_type": "code",
   "execution_count": 13,
   "id": "5c733bb8",
   "metadata": {},
   "outputs": [
    {
     "name": "stdout",
     "output_type": "stream",
     "text": [
      "2591423744256\n",
      "2591423744256\n",
      "[1, 2, 3, 4, 5, 100]\n",
      "[1, 2, 3, 4, 5, 100]\n"
     ]
    }
   ],
   "source": [
    "#Deep copy (copies data and address location)\n",
    "data=[1,2,3,4,5]\n",
    "temp=data\n",
    "data.append(100)\n",
    "print(id(data))\n",
    "print(id(temp))  #address is same\n",
    "print(data)\n",
    "print(temp)\n",
    "#here, we want to append only data with 100, but temp also gets appended. therefore, use shallow copy"
   ]
  },
  {
   "cell_type": "code",
   "execution_count": 12,
   "id": "4bc99866",
   "metadata": {},
   "outputs": [
    {
     "name": "stdout",
     "output_type": "stream",
     "text": [
      "2591423745216\n",
      "2591423878784\n",
      "[1, 2, 3, 4, 5, 100]\n",
      "[1, 2, 3, 4, 5]\n"
     ]
    }
   ],
   "source": [
    "#Shallow copy\n",
    "data=[1,2,3,4,5]\n",
    "temp=data.copy()\n",
    "data.append(100)\n",
    "print(id(data))\n",
    "print(id(temp)) #address is different\n",
    "print(data)\n",
    "print(temp)"
   ]
  },
  {
   "cell_type": "code",
   "execution_count": 16,
   "id": "9cf928b0",
   "metadata": {},
   "outputs": [
    {
     "data": {
      "text/plain": [
       "False"
      ]
     },
     "execution_count": 16,
     "metadata": {},
     "output_type": "execute_result"
    }
   ],
   "source": [
    "#Identity operator (Gives info about the address whether its same(True) or different(False))\n",
    "data=[1,2,3,4,5]\n",
    "temp=data\n",
    "temp is data\n",
    "temp is data.copy()"
   ]
  },
  {
   "cell_type": "code",
   "execution_count": 18,
   "id": "5d97cbfe",
   "metadata": {},
   "outputs": [
    {
     "data": {
      "text/plain": [
       "False"
      ]
     },
     "execution_count": 18,
     "metadata": {},
     "output_type": "execute_result"
    }
   ],
   "source": [
    "#Membership operator (in operator): used in string,list,tuple,set,dict(keys)\n",
    "data=[10,20,30,40]\n",
    "100 in data"
   ]
  },
  {
   "cell_type": "code",
   "execution_count": 21,
   "id": "467e6b70",
   "metadata": {},
   "outputs": [
    {
     "data": {
      "text/plain": [
       "2"
      ]
     },
     "execution_count": 21,
     "metadata": {},
     "output_type": "execute_result"
    }
   ],
   "source": [
    "#Count\n",
    "data=[3,4,5,6,7,3,8]\n",
    "data.count(3)"
   ]
  },
  {
   "cell_type": "code",
   "execution_count": 23,
   "id": "f4e27a96",
   "metadata": {},
   "outputs": [
    {
     "name": "stdout",
     "output_type": "stream",
     "text": [
      "[3, 4, 5, 6, 7, 3, 8, 10, 20, 30, 10, 20, 30, [10, 20, 30]]\n"
     ]
    }
   ],
   "source": [
    "#Extend\n",
    "data.extend([10,20,30]) #datatype should be iterable: for loop: list,string\n",
    "data.append([10,20,30])\n",
    "print(data)"
   ]
  },
  {
   "cell_type": "code",
   "execution_count": 24,
   "id": "7a3b3c23",
   "metadata": {},
   "outputs": [
    {
     "data": {
      "text/plain": [
       "['__add__',\n",
       " '__class__',\n",
       " '__contains__',\n",
       " '__delattr__',\n",
       " '__dir__',\n",
       " '__doc__',\n",
       " '__eq__',\n",
       " '__format__',\n",
       " '__ge__',\n",
       " '__getattribute__',\n",
       " '__getitem__',\n",
       " '__getnewargs__',\n",
       " '__getstate__',\n",
       " '__gt__',\n",
       " '__hash__',\n",
       " '__init__',\n",
       " '__init_subclass__',\n",
       " '__iter__',\n",
       " '__le__',\n",
       " '__len__',\n",
       " '__lt__',\n",
       " '__mod__',\n",
       " '__mul__',\n",
       " '__ne__',\n",
       " '__new__',\n",
       " '__reduce__',\n",
       " '__reduce_ex__',\n",
       " '__repr__',\n",
       " '__rmod__',\n",
       " '__rmul__',\n",
       " '__setattr__',\n",
       " '__sizeof__',\n",
       " '__str__',\n",
       " '__subclasshook__',\n",
       " 'capitalize',\n",
       " 'casefold',\n",
       " 'center',\n",
       " 'count',\n",
       " 'encode',\n",
       " 'endswith',\n",
       " 'expandtabs',\n",
       " 'find',\n",
       " 'format',\n",
       " 'format_map',\n",
       " 'index',\n",
       " 'isalnum',\n",
       " 'isalpha',\n",
       " 'isascii',\n",
       " 'isdecimal',\n",
       " 'isdigit',\n",
       " 'isidentifier',\n",
       " 'islower',\n",
       " 'isnumeric',\n",
       " 'isprintable',\n",
       " 'isspace',\n",
       " 'istitle',\n",
       " 'isupper',\n",
       " 'join',\n",
       " 'ljust',\n",
       " 'lower',\n",
       " 'lstrip',\n",
       " 'maketrans',\n",
       " 'partition',\n",
       " 'removeprefix',\n",
       " 'removesuffix',\n",
       " 'replace',\n",
       " 'rfind',\n",
       " 'rindex',\n",
       " 'rjust',\n",
       " 'rpartition',\n",
       " 'rsplit',\n",
       " 'rstrip',\n",
       " 'split',\n",
       " 'splitlines',\n",
       " 'startswith',\n",
       " 'strip',\n",
       " 'swapcase',\n",
       " 'title',\n",
       " 'translate',\n",
       " 'upper',\n",
       " 'zfill']"
      ]
     },
     "execution_count": 24,
     "metadata": {},
     "output_type": "execute_result"
    }
   ],
   "source": [
    "dir(str) #special concepts"
   ]
  },
  {
   "cell_type": "code",
   "execution_count": 26,
   "id": "d44cb3c9",
   "metadata": {},
   "outputs": [
    {
     "data": {
      "text/plain": [
       "6"
      ]
     },
     "execution_count": 26,
     "metadata": {},
     "output_type": "execute_result"
    }
   ],
   "source": [
    "#Finds index position of first appearing data\n",
    "data=[3,4,5,6,7,3,8,8,8]\n",
    "data.index(8)"
   ]
  },
  {
   "cell_type": "code",
   "execution_count": 27,
   "id": "4322a3b2",
   "metadata": {},
   "outputs": [
    {
     "name": "stdout",
     "output_type": "stream",
     "text": [
      "[3, 1000, 4, 5, 6, 7, 3, 8, 8, 8]\n"
     ]
    }
   ],
   "source": [
    "data.insert(1,1000) #position,value\n",
    "print(data)\n",
    "#if you give a position that doesnt exist, it put data in last"
   ]
  },
  {
   "cell_type": "code",
   "execution_count": 28,
   "id": "b6e4cbab",
   "metadata": {},
   "outputs": [
    {
     "data": {
      "text/plain": [
       "7"
      ]
     },
     "execution_count": 28,
     "metadata": {},
     "output_type": "execute_result"
    }
   ],
   "source": [
    "data.pop() #default last element \n",
    "data.pop(5) #specific position ka data will be removed and displayed"
   ]
  },
  {
   "cell_type": "code",
   "execution_count": 35,
   "id": "bcf97cb2",
   "metadata": {},
   "outputs": [
    {
     "name": "stdout",
     "output_type": "stream",
     "text": [
      "[3, 5, 6, 7, 8]\n"
     ]
    }
   ],
   "source": [
    "data=[3,4,5,6,7,8]\n",
    "data.remove(4)\n",
    "print(data)"
   ]
  },
  {
   "cell_type": "code",
   "execution_count": 36,
   "id": "6cddb181",
   "metadata": {},
   "outputs": [
    {
     "name": "stdout",
     "output_type": "stream",
     "text": [
      "[7, 6, 5, 5, 4, 3, 2, 1]\n"
     ]
    }
   ],
   "source": [
    "data=[3,4,5,1,2,6,5,7]\n",
    "data.sort(reverse=True) #descending order, just sort() is ascending\n",
    "print(data)"
   ]
  },
  {
   "cell_type": "code",
   "execution_count": 37,
   "id": "c93aaa0c",
   "metadata": {},
   "outputs": [
    {
     "name": "stdout",
     "output_type": "stream",
     "text": [
      "[]\n"
     ]
    }
   ],
   "source": [
    "data.clear()\n",
    "print(data)"
   ]
  },
  {
   "cell_type": "code",
   "execution_count": 1,
   "id": "99c930ec",
   "metadata": {},
   "outputs": [
    {
     "name": "stdout",
     "output_type": "stream",
     "text": [
      "1\n",
      "['Vasu', 'Gajju', 'Sumu', 4, ['siblings', 45], True]\n",
      "['Vasu', 'Gajju', 'Sumu', 4, ['siblings', 45]]\n",
      "[1, 2, 'pus']\n",
      "['pus', 2, 1]\n",
      "['a', 'b', 'g', 'i', 'y']\n"
     ]
    },
    {
     "data": {
      "text/plain": [
       "400000"
      ]
     },
     "execution_count": 1,
     "metadata": {},
     "output_type": "execute_result"
    }
   ],
   "source": [
    "#Functions performed on lists\n",
    "icecream=['choco','vanilla','mango']\n",
    "\n",
    "icecream.append('mint') #APPEEND: Appends or adds into end of the list\n",
    "icecream\n",
    "icecream[1]='strawberry'\n",
    "icecream\n",
    "\n",
    "b=['Vasu','Sumu',4,['siblings',45],True]\n",
    "b[3][0]\n",
    "b[3][1]\n",
    "\n",
    "icecream.clear()  #CLEAR: clears all items inside the list\n",
    "icecream\n",
    "icecream.count('mint')  #COUNT: counts number of times the word occurs\n",
    "b.count('Vasu')\n",
    "\n",
    "print(b.index('Sumu')) #INDEX: position of the first occurence\n",
    "b.insert(1,'Gajju') #INSERT: inserts into the list format: insert(pos,\" what you want to insert\")\n",
    "print(b)\n",
    "b.pop() #POP: removes the last \n",
    "print(b)\n",
    "x=[1,2,'pus',45]\n",
    "x.remove(45)  #REMOVE: removes the item that you mention\n",
    "print(x)\n",
    "x.reverse()  #REVERSE: reverses the items in backward order\n",
    "print(x)\n",
    "alp=['a','g','b','y','i'] \n",
    "alp.sort()   #Sort in ascending order\n",
    "print(alp)\n",
    "numberss=[56,678,34218,6,9,400000]\n",
    "min(numberss)  #MIN AND MAX: minimum and maximum of list\n",
    "max(numberss)"
   ]
  },
  {
   "cell_type": "code",
   "execution_count": 63,
   "id": "d003a29e",
   "metadata": {},
   "outputs": [
    {
     "name": "stdout",
     "output_type": "stream",
     "text": [
      "[9, 16, 25, 36, 49, 64]\n"
     ]
    }
   ],
   "source": [
    "#Example: To store square of each number\n",
    "data=[3,4,5,6,7,8]\n",
    "res=[]\n",
    "for x in data:\n",
    "    res.append(x**2)\n",
    "print(res)"
   ]
  },
  {
   "cell_type": "code",
   "execution_count": 62,
   "id": "ee0f1298",
   "metadata": {},
   "outputs": [
    {
     "name": "stdout",
     "output_type": "stream",
     "text": [
      "[3, 4, 5, 6, 4]\n",
      "['k', 'd', 'e']\n"
     ]
    }
   ],
   "source": [
    "#Example: To seperate the alphabets and numbers and put into different lists\n",
    "data=[3,4,5,6,\"k\",\"d\",\"e\",4]\n",
    "int_data=[]\n",
    "str_data=[]\n",
    "for i in data:\n",
    "    if(type(i)==int):\n",
    "        int_data.append(i)\n",
    "    elif type(i)==str:\n",
    "        str_data.append(i)\n",
    "print(int_data)\n",
    "print(str_data)"
   ]
  },
  {
   "cell_type": "code",
   "execution_count": null,
   "id": "0349df03",
   "metadata": {},
   "outputs": [],
   "source": [
    "#LISTS [Multiple seperate values]\n",
    "a=[1,2,3]\n",
    "b=['Vasu','Sumu',4,['siblings',45],True]  #different data types within the list and nested list\n",
    "\n",
    "data=[\"hello\", \"world\"]   #JOIN: converts list to string\n",
    "\" \".join(data)"
   ]
  },
  {
   "cell_type": "code",
   "execution_count": 55,
   "id": "2beac663",
   "metadata": {},
   "outputs": [
    {
     "name": "stdout",
     "output_type": "stream",
     "text": [
      "60.3\n"
     ]
    }
   ],
   "source": [
    "#Example: Adding the numbers in string\n",
    "data=\"20 20.3 20\"\n",
    "newdata=data.split(\" \")\n",
    "res=0\n",
    "for i in newdata:\n",
    "    res+=eval(i)\n",
    "print(res)"
   ]
  },
  {
   "cell_type": "code",
   "execution_count": 58,
   "id": "48a79d28",
   "metadata": {},
   "outputs": [
    {
     "data": {
      "text/plain": [
       "'even'"
      ]
     },
     "execution_count": 58,
     "metadata": {},
     "output_type": "execute_result"
    }
   ],
   "source": [
    "#Comprehensive: Single line if-else statement\n",
    "data=44\n",
    "\"even\" if data%2==0 else \"odd\""
   ]
  },
  {
   "cell_type": "code",
   "execution_count": null,
   "id": "57d20e8f",
   "metadata": {},
   "outputs": [],
   "source": [
    "num = 5\n",
    "if num > 0:\n",
    "    result = \"positive\"\n",
    "elif num == 0:\n",
    "    result = \"zero\"\n",
    "else:\n",
    "    result = \"negative\"\n",
    "#comprehensive single line:\n",
    "# Single-line if-else statement (ternary operator)\n",
    "result = \"positive\" if num > 0 else (\"zero\" if num == 0 else \"negative\")"
   ]
  },
  {
   "cell_type": "code",
   "execution_count": 61,
   "id": "a63fd93d",
   "metadata": {},
   "outputs": [
    {
     "name": "stdout",
     "output_type": "stream",
     "text": [
      "[0, 2, 4, 6, 8]\n"
     ]
    }
   ],
   "source": [
    "#print all even numbers into a list\n",
    "res=[]\n",
    "for x in range (10):\n",
    "    if(x%2==0):\n",
    "        res.append(x)\n",
    "print(res)"
   ]
  },
  {
   "cell_type": "code",
   "execution_count": 67,
   "id": "45a9f797",
   "metadata": {},
   "outputs": [
    {
     "name": "stdout",
     "output_type": "stream",
     "text": [
      "[0, 4, 16, 36, 64]\n"
     ]
    }
   ],
   "source": [
    "#COMPREHENSIVE LISTS (single if statement:rightmost and if-else: left)\n",
    "#[output,for,if]\n",
    "res=[x**2 for x in range(10) if(x%2==0)]\n",
    "print(res)"
   ]
  },
  {
   "cell_type": "code",
   "execution_count": 65,
   "id": "f89f2a13",
   "metadata": {},
   "outputs": [
    {
     "name": "stdout",
     "output_type": "stream",
     "text": [
      "[0, 0, 2, 0, 4, 0, 6, 0, 8, 0]\n"
     ]
    }
   ],
   "source": [
    "res=[x if x%2==0 else 0 for x in range(10)]\n",
    "print(res)"
   ]
  },
  {
   "cell_type": "code",
   "execution_count": 68,
   "id": "8d8aae20",
   "metadata": {},
   "outputs": [
    {
     "name": "stdout",
     "output_type": "stream",
     "text": [
      "60.3\n"
     ]
    }
   ],
   "source": [
    "data=\"20 20.3 20\"\n",
    "res=sum([eval(x) for x in data.split()])\n",
    "print(res)"
   ]
  },
  {
   "cell_type": "code",
   "execution_count": 74,
   "id": "d014ff1e",
   "metadata": {},
   "outputs": [
    {
     "name": "stdout",
     "output_type": "stream",
     "text": [
      "60.45\n"
     ]
    }
   ],
   "source": [
    "data=\"asd20asd20.45f20sdf\"\n",
    "res=\"\"\n",
    "for x in data:\n",
    "    if not x.isalpha():\n",
    "        res+=x\n",
    "    else:\n",
    "        res+=\" \"\n",
    "temp=[]\n",
    "for y in res.split():\n",
    "    temp.append(eval(y))\n",
    "print(sum(temp))"
   ]
  },
  {
   "cell_type": "code",
   "execution_count": 75,
   "id": "7a32280e",
   "metadata": {},
   "outputs": [
    {
     "name": "stdout",
     "output_type": "stream",
     "text": [
      "60.45\n"
     ]
    }
   ],
   "source": [
    "res=sum([eval(z) for z in \"\".join([x if not x.isalpha() else \" \" for x in data]).split()])\n",
    "print(res)"
   ]
  },
  {
   "cell_type": "code",
   "execution_count": 80,
   "id": "354b4511",
   "metadata": {},
   "outputs": [
    {
     "name": "stdout",
     "output_type": "stream",
     "text": [
      "<generator object <genexpr> at 0x0000025B5BCA5BE0>\n"
     ]
    },
    {
     "data": {
      "text/plain": [
       "0"
      ]
     },
     "execution_count": 80,
     "metadata": {},
     "output_type": "execute_result"
    }
   ],
   "source": [
    "#generator (huge memory and data)\n",
    "#swap memory concept in linux\n",
    "res=(x for x in range(3))\n",
    "print(res)\n",
    "res.__next__()"
   ]
  },
  {
   "cell_type": "code",
   "execution_count": 81,
   "id": "c1f29b53",
   "metadata": {},
   "outputs": [
    {
     "name": "stdout",
     "output_type": "stream",
     "text": [
      "1\n",
      "2\n"
     ]
    }
   ],
   "source": [
    "for x in res:\n",
    "    print(x)"
   ]
  },
  {
   "cell_type": "code",
   "execution_count": null,
   "id": "af05ed7c",
   "metadata": {},
   "outputs": [],
   "source": [
    "data=\"9,10,39,49,22,11\".split(',')\n",
    "data.sort()\n",
    "print(data)"
   ]
  },
  {
   "cell_type": "markdown",
   "id": "572f969b",
   "metadata": {},
   "source": [
    "### TUPLES"
   ]
  },
  {
   "cell_type": "code",
   "execution_count": 3,
   "id": "8e10489c",
   "metadata": {},
   "outputs": [
    {
     "data": {
      "text/plain": [
       "5"
      ]
     },
     "execution_count": 3,
     "metadata": {},
     "output_type": "execute_result"
    }
   ],
   "source": [
    "#Ordered sequence\n",
    "#Immutable\n",
    "data=(3,4,5,5,5,6,7,5)\n",
    "data.count(5)\n",
    "data.index(6)"
   ]
  },
  {
   "cell_type": "code",
   "execution_count": 7,
   "id": "1de5406f",
   "metadata": {},
   "outputs": [
    {
     "name": "stdout",
     "output_type": "stream",
     "text": [
      "(1, 2, 2, [5, 6, 7, 8, 'ten'], 3)\n"
     ]
    }
   ],
   "source": [
    "data=(1,2,2,[5,6,7,8,10],3)\n",
    "data[-2][-1]=\"ten\"\n",
    "print(data)"
   ]
  },
  {
   "cell_type": "markdown",
   "id": "cebfcb39",
   "metadata": {},
   "source": [
    "### DICT"
   ]
  },
  {
   "cell_type": "code",
   "execution_count": 8,
   "id": "ea21236f",
   "metadata": {},
   "outputs": [],
   "source": [
    "#Dict\n",
    "#{keys: values}\n",
    "#ordered\n",
    "#mutable\n",
    "#keys will alway be unique\n",
    "#int, float, strings,tuple\n",
    "data={\"name\":\"sam\"} #sample format{key:values}"
   ]
  },
  {
   "cell_type": "code",
   "execution_count": 88,
   "id": "1ed555a4",
   "metadata": {},
   "outputs": [
    {
     "data": {
      "text/plain": [
       "'sam'"
      ]
     },
     "execution_count": 88,
     "metadata": {},
     "output_type": "execute_result"
    }
   ],
   "source": [
    "data={\"name\":\"sam\",\"company\":\"dell\",\"place\":\"bangalore\"}\n",
    "data[\"name\"]"
   ]
  },
  {
   "cell_type": "code",
   "execution_count": 89,
   "id": "688ab45d",
   "metadata": {},
   "outputs": [
    {
     "data": {
      "text/plain": [
       "'No data/Error'"
      ]
     },
     "execution_count": 89,
     "metadata": {},
     "output_type": "execute_result"
    }
   ],
   "source": [
    "data.get(\"name\")\n",
    "data.get(\"nameee\",\"No data/Error\") #since 'nameee' doesnt exist as a key, the message gets printed"
   ]
  },
  {
   "cell_type": "code",
   "execution_count": 30,
   "id": "947f17d8",
   "metadata": {},
   "outputs": [
    {
     "data": {
      "text/plain": [
       "dict_items([('name', 'sam'), ('company', 'dell'), ('place', 'bangalore')])"
      ]
     },
     "execution_count": 30,
     "metadata": {},
     "output_type": "execute_result"
    }
   ],
   "source": [
    "data.items()"
   ]
  },
  {
   "cell_type": "code",
   "execution_count": 32,
   "id": "060d6c95",
   "metadata": {},
   "outputs": [
    {
     "data": {
      "text/plain": [
       "dict_keys(['name', 'company', 'place'])"
      ]
     },
     "execution_count": 32,
     "metadata": {},
     "output_type": "execute_result"
    }
   ],
   "source": [
    "data.keys()"
   ]
  },
  {
   "cell_type": "code",
   "execution_count": 31,
   "id": "2daf9387",
   "metadata": {},
   "outputs": [
    {
     "data": {
      "text/plain": [
       "dict_values(['sam', 'dell', 'bangalore'])"
      ]
     },
     "execution_count": 31,
     "metadata": {},
     "output_type": "execute_result"
    }
   ],
   "source": [
    "data.values()"
   ]
  },
  {
   "cell_type": "code",
   "execution_count": 23,
   "id": "c36aaeb5",
   "metadata": {},
   "outputs": [
    {
     "data": {
      "text/plain": [
       "('place', 'bangalore')"
      ]
     },
     "execution_count": 23,
     "metadata": {},
     "output_type": "execute_result"
    }
   ],
   "source": [
    "data.pop(\"company\")\n",
    "data.popitem()"
   ]
  },
  {
   "cell_type": "code",
   "execution_count": 34,
   "id": "ea021042",
   "metadata": {},
   "outputs": [
    {
     "data": {
      "text/plain": [
       "'sam'"
      ]
     },
     "execution_count": 34,
     "metadata": {},
     "output_type": "execute_result"
    }
   ],
   "source": [
    "name=data.setdefault(\"name\")   #puts into variable\n",
    "name"
   ]
  },
  {
   "cell_type": "code",
   "execution_count": 35,
   "id": "888e83a6",
   "metadata": {},
   "outputs": [
    {
     "name": "stdout",
     "output_type": "stream",
     "text": [
      "{'name': 'sam', 'company': 'mind', 'place': 'bangalore', 'blood': 'o+ve'}\n"
     ]
    }
   ],
   "source": [
    "data.update({\"company\":\"mind\",\"blood\":\"o+ve\"})\n",
    "print(data)"
   ]
  },
  {
   "cell_type": "code",
   "execution_count": 37,
   "id": "1b8444b2",
   "metadata": {},
   "outputs": [
    {
     "name": "stdout",
     "output_type": "stream",
     "text": [
      "{'name': 'sam', 'company': 'dell', 'place': 'bangalore', 'phno': '7259249765'}\n"
     ]
    }
   ],
   "source": [
    "#it only replaces\n",
    "data[\"phno\"]=\"7259249765\"\n",
    "print(data)"
   ]
  },
  {
   "cell_type": "code",
   "execution_count": 47,
   "id": "26e04ab9",
   "metadata": {},
   "outputs": [
    {
     "name": "stdout",
     "output_type": "stream",
     "text": [
      "{'name': None, 'company': None, 'place': None}\n"
     ]
    }
   ],
   "source": [
    "keys=[\"name\",\"company\",\"place\"]\n",
    "temp={}.fromkeys(keys)\n",
    "#temp={}.fromkeys(keys,[]) dont use this cause it will shallow copy all'[]'is same address\n",
    "print(temp)"
   ]
  },
  {
   "cell_type": "code",
   "execution_count": 73,
   "id": "cf3723b1",
   "metadata": {},
   "outputs": [
    {
     "name": "stdout",
     "output_type": "stream",
     "text": [
      "{0: 'sam', 1: 'nick', 2: 'vaz'}\n"
     ]
    }
   ],
   "source": [
    "data = [\"sam\",\"nick\",\"vaz\"]\n",
    "res = {}\n",
    "for x in range(len(data)):\n",
    "    res[x]=data[x]\n",
    "print(res)"
   ]
  },
  {
   "cell_type": "code",
   "execution_count": 74,
   "id": "4e2a98de",
   "metadata": {},
   "outputs": [
    {
     "name": "stdout",
     "output_type": "stream",
     "text": [
      "{0: 'sam', 1: 'nick', 2: 'vaz'}\n"
     ]
    }
   ],
   "source": [
    "#\n",
    "data = [\"sam\",\"nick\",\"vaz\"]\n",
    "res = {}\n",
    "for x,y in enumerate(data):  #index position plus data=enumerate\n",
    "    res[x]=y\n",
    "print(res)"
   ]
  },
  {
   "cell_type": "code",
   "execution_count": 75,
   "id": "8bff7d08",
   "metadata": {},
   "outputs": [
    {
     "name": "stdout",
     "output_type": "stream",
     "text": [
      "{0: 'sam', 1: 'nick', 2: 'vaz'}\n"
     ]
    }
   ],
   "source": [
    "res = dict(enumerate(data))\n",
    "print(res)"
   ]
  },
  {
   "cell_type": "code",
   "execution_count": 76,
   "id": "6591571f",
   "metadata": {},
   "outputs": [
    {
     "name": "stdout",
     "output_type": "stream",
     "text": [
      "{'name': 'sam', 'company': 'dell', 'place': 'bangalore'}\n"
     ]
    }
   ],
   "source": [
    "keys = [\"name\",\"company\",\"place\"]\n",
    "values = [\"sam\",\"dell\",\"bangalore\"]\n",
    "res = {}\n",
    "for x in range(len(keys)):\n",
    "    res[keys[x]]=values[x]\n",
    "print(res)"
   ]
  },
  {
   "cell_type": "code",
   "execution_count": 78,
   "id": "07062e0e",
   "metadata": {},
   "outputs": [],
   "source": [
    "keys = [\"name\",\"company\",\"place\"]\n",
    "values = [\"sam\",\"dell\",\"bangalore\"]\n",
    "res = {}\n",
    "for x,y in zip(keys,values):\n",
    "    res[x]=y"
   ]
  },
  {
   "cell_type": "code",
   "execution_count": 79,
   "id": "4958a9bf",
   "metadata": {},
   "outputs": [
    {
     "name": "stdout",
     "output_type": "stream",
     "text": [
      "{'name': 'sam', 'company': 'dell', 'place': 'bangalore'}\n"
     ]
    }
   ],
   "source": [
    "res = dict(zip(keys,values))  #clubs the data\n",
    "print(res)"
   ]
  },
  {
   "cell_type": "code",
   "execution_count": 80,
   "id": "2de235c2",
   "metadata": {},
   "outputs": [
    {
     "name": "stdout",
     "output_type": "stream",
     "text": [
      "sam 20 20 21\n",
      "nick 21 22 22\n",
      "vaz 22 21 22\n",
      "{'sam': 61, 'nick': 65, 'vaz': 65}\n"
     ]
    }
   ],
   "source": [
    "name = [\"sam\",\"nick\",\"vaz\"]\n",
    "m1 = [20,21,22]\n",
    "m2 = [20,22,21]\n",
    "m3 = [21,22,22]\n",
    "res = {}\n",
    "for x in range(len(name)):\n",
    "    print(name[x],m1[x],m2[x],m3[x])\n",
    "    res[name[x]]=m1[x]+m2[x]+m3[x]\n",
    "print(res)"
   ]
  },
  {
   "cell_type": "code",
   "execution_count": 81,
   "id": "f47b2764",
   "metadata": {},
   "outputs": [
    {
     "name": "stdout",
     "output_type": "stream",
     "text": [
      "{'sam': 61, 'nick': 65, 'vaz': 65}\n"
     ]
    }
   ],
   "source": [
    "name = [\"sam\",\"nick\",\"vaz\"]\n",
    "m1 = [20,21,22]\n",
    "m2 = [20,22,21]\n",
    "m3 = [21,22,22]\n",
    "res = {}\n",
    "for x,y in zip(name,zip(m1,m2,m3)):\n",
    "    res[x]=sum(y)\n",
    "print(res)"
   ]
  },
  {
   "cell_type": "code",
   "execution_count": 82,
   "id": "aee28808",
   "metadata": {},
   "outputs": [
    {
     "name": "stdout",
     "output_type": "stream",
     "text": [
      "{'sam': 61, 'nick': 65, 'vaz': 65}\n"
     ]
    }
   ],
   "source": [
    "res = {x:sum(y) for x,y in zip(name,zip(m1,m2,m3))}\n",
    "print(res)"
   ]
  },
  {
   "cell_type": "code",
   "execution_count": 83,
   "id": "45ee0971",
   "metadata": {},
   "outputs": [
    {
     "name": "stdout",
     "output_type": "stream",
     "text": [
      "Enter the name: sam\n",
      "Enter the place: bang\n",
      "Enter the company: dell\n",
      "{'name': 'sam', 'place': 'bang', 'company': 'dell'}\n"
     ]
    }
   ],
   "source": [
    "data = [\"name\",\"place\",\"company\"]\n",
    "res = {}\n",
    "for x in data:\n",
    "    res[x]=input(f\"Enter the {x}: \")\n",
    "print(res)"
   ]
  },
  {
   "cell_type": "code",
   "execution_count": 84,
   "id": "7ecba7b7",
   "metadata": {},
   "outputs": [
    {
     "name": "stdout",
     "output_type": "stream",
     "text": [
      "Enter the name: sam\n",
      "Enter the place: bang\n",
      "Enter the company: dell\n",
      "{'name': 'sam', 'place': 'bang', 'company': 'dell'}\n"
     ]
    }
   ],
   "source": [
    "res = {x:input(f\"Enter the {x}: \") for x in data}\n",
    "print(res)"
   ]
  },
  {
   "cell_type": "markdown",
   "id": "6fc2a687",
   "metadata": {},
   "source": [
    "### SET"
   ]
  },
  {
   "cell_type": "code",
   "execution_count": 2,
   "id": "6d896806",
   "metadata": {},
   "outputs": [
    {
     "name": "stdout",
     "output_type": "stream",
     "text": [
      "{0.9, 1, 3, 100, 5, 6, 7, 4, 'hi'}\n"
     ]
    }
   ],
   "source": [
    "#unordered\n",
    "#mutable\n",
    "#Unique: removes duplicate data\n",
    "\n",
    "data={7,7,100,7,7,0.9,6,6,5,5,5,5,5,4,\"hi\",1,3,3,3,2}\n",
    "data.add(1000) #adds randomly any position\n",
    "data.discard(1000) #mathematical expressions discard is used\n",
    "data.remove(2) #removes 2\n",
    "print(data)"
   ]
  },
  {
   "cell_type": "code",
   "execution_count": 110,
   "id": "66859380",
   "metadata": {},
   "outputs": [
    {
     "data": {
      "text/plain": [
       "0.9"
      ]
     },
     "execution_count": 110,
     "metadata": {},
     "output_type": "execute_result"
    }
   ],
   "source": [
    "data.pop() #here,the first data will be popped"
   ]
  },
  {
   "cell_type": "code",
   "execution_count": 117,
   "id": "f2a0127d",
   "metadata": {},
   "outputs": [
    {
     "name": "stdout",
     "output_type": "stream",
     "text": [
      "{0.9, 1, 2, 3, 4, 5, 6, 7, 0, 8, 9, 'hi', 100}\n"
     ]
    }
   ],
   "source": [
    "data.update({0,2,3,4,5,6,7,8,9}) #adds new set with existing old one\n",
    "print(data)"
   ]
  },
  {
   "cell_type": "code",
   "execution_count": 122,
   "id": "eb45f78a",
   "metadata": {},
   "outputs": [
    {
     "name": "stdout",
     "output_type": "stream",
     "text": [
      "{3, 4, 5}\n"
     ]
    }
   ],
   "source": [
    "data={1,2,3,4,5}\n",
    "data1={1,2}\n",
    "print(data.difference(data1))"
   ]
  },
  {
   "cell_type": "code",
   "execution_count": 123,
   "id": "3d942289",
   "metadata": {},
   "outputs": [
    {
     "name": "stdout",
     "output_type": "stream",
     "text": [
      "{1, 3, 5}\n"
     ]
    }
   ],
   "source": [
    "data={0,1,2,3,5}\n",
    "data1={1,3,4,5}\n",
    "print(data.intersection(data1))"
   ]
  },
  {
   "cell_type": "code",
   "execution_count": 126,
   "id": "cfb6bc2a",
   "metadata": {},
   "outputs": [
    {
     "data": {
      "text/plain": [
       "False"
      ]
     },
     "execution_count": 126,
     "metadata": {},
     "output_type": "execute_result"
    }
   ],
   "source": [
    "temp={1,2,4,5,7}\n",
    "temp1={7,5}\n",
    "temp1.isdisjoint(temp)"
   ]
  },
  {
   "cell_type": "code",
   "execution_count": 131,
   "id": "76edfd73",
   "metadata": {},
   "outputs": [
    {
     "data": {
      "text/plain": [
       "False"
      ]
     },
     "execution_count": 131,
     "metadata": {},
     "output_type": "execute_result"
    }
   ],
   "source": [
    "temp={1,2,4,5,7}\n",
    "temp1={7,3}\n",
    "temp1.issubset(temp) #checks if it is subset or not (T or F)"
   ]
  },
  {
   "cell_type": "code",
   "execution_count": 134,
   "id": "00ccf5de",
   "metadata": {},
   "outputs": [
    {
     "name": "stdout",
     "output_type": "stream",
     "text": [
      "{0, 2, 4, 5}\n"
     ]
    }
   ],
   "source": [
    "data={0,1,2,3}\n",
    "data1={1,3,4,5}\n",
    "res=data.symmetric_difference(data1) #each non common thing repeats once\n",
    "print(res)"
   ]
  },
  {
   "cell_type": "code",
   "execution_count": 137,
   "id": "e773fe47",
   "metadata": {},
   "outputs": [
    {
     "data": {
      "text/plain": [
       "{0, 1, 2, 3, 4, 5}"
      ]
     },
     "execution_count": 137,
     "metadata": {},
     "output_type": "execute_result"
    }
   ],
   "source": [
    "data={0,1,2,3}\n",
    "data1={1,3,4,5}\n",
    "data.union(data1) #removes duplicates"
   ]
  },
  {
   "cell_type": "code",
   "execution_count": 1,
   "id": "64318449",
   "metadata": {},
   "outputs": [
    {
     "name": "stdout",
     "output_type": "stream",
     "text": [
      "{'odd': [1, 3, 5, 7, 9, 11, 13, 15, 17, 19], 'even': [0, 2, 4, 6, 8, 10, 12, 14, 16, 18]}\n"
     ]
    }
   ],
   "source": [
    "data={\"odd\":[],\"even\":[]}\n",
    "for x in range(20):\n",
    "    if((x%2)==0):\n",
    "        data[\"even\"].append(x)\n",
    "    else:\n",
    "        data[\"odd\"].append(x)\n",
    "print(data)"
   ]
  },
  {
   "cell_type": "code",
   "execution_count": 2,
   "id": "de5e2357",
   "metadata": {},
   "outputs": [
    {
     "name": "stdout",
     "output_type": "stream",
     "text": [
      "{'odd': [1, 3, 5, 7, 9, 11, 13, 15, 17, 19], 'even': [0, 2, 4, 6, 8, 10, 12, 14, 16, 18]}\n"
     ]
    }
   ],
   "source": [
    "data={\"odd\":[],\"even\":[]}\n",
    "for x in range(20):\n",
    "    if((x%2)==0):\n",
    "        data[\"even\"].append(x)\n",
    "    else:\n",
    "        data[\"odd\"].append(x)\n",
    "print(data)"
   ]
  },
  {
   "cell_type": "code",
   "execution_count": 3,
   "id": "0962f891",
   "metadata": {},
   "outputs": [
    {
     "name": "stdout",
     "output_type": "stream",
     "text": [
      "['10', '11', '22', '39', '49', '9']\n"
     ]
    }
   ],
   "source": [
    "data=\"9,10,39,49,22,11\".split(',')\n",
    "data.sort()\n",
    "print(data)"
   ]
  },
  {
   "cell_type": "code",
   "execution_count": 5,
   "id": "ba997414",
   "metadata": {},
   "outputs": [
    {
     "data": {
      "text/plain": [
       "True"
      ]
     },
     "execution_count": 5,
     "metadata": {},
     "output_type": "execute_result"
    }
   ],
   "source": [
    "#startswith and endswith: returns true or flase\n",
    "a=\"lmao\"\n",
    "a.startswith('l')\n",
    "a.endswith('o')"
   ]
  },
  {
   "cell_type": "markdown",
   "id": "eb7483d2",
   "metadata": {},
   "source": [
    "## FUNCTIONS"
   ]
  },
  {
   "cell_type": "code",
   "execution_count": 2,
   "id": "2ed2741c",
   "metadata": {},
   "outputs": [
    {
     "name": "stdout",
     "output_type": "stream",
     "text": [
      "Dell India Pvt Ltd\n"
     ]
    }
   ],
   "source": [
    "def print_dell():\n",
    "    print(\"Dell India Pvt Ltd\")\n",
    "print_dell()"
   ]
  },
  {
   "cell_type": "code",
   "execution_count": 3,
   "id": "ece0c0e4",
   "metadata": {},
   "outputs": [
    {
     "data": {
      "text/plain": [
       "12"
      ]
     },
     "execution_count": 3,
     "metadata": {},
     "output_type": "execute_result"
    }
   ],
   "source": [
    "def adding(a,b,c):\n",
    "    \"\"\"This function is designed\n",
    "    for adding 3 numbers \n",
    "    eg: adding(3,4,5)\"\"\"\n",
    "    return a+b+c\n",
    "adding(3,4,5)  #here, only doc string works"
   ]
  },
  {
   "cell_type": "code",
   "execution_count": 4,
   "id": "1900dbcf",
   "metadata": {},
   "outputs": [
    {
     "name": "stdout",
     "output_type": "stream",
     "text": [
      "Help on function adding in module __main__:\n",
      "\n",
      "adding(a, b, c)\n",
      "    This function is designed\n",
      "    for adding 3 numbers \n",
      "    eg: adding(3,4,5)\n",
      "\n"
     ]
    }
   ],
   "source": [
    "help(adding)"
   ]
  },
  {
   "cell_type": "code",
   "execution_count": 5,
   "id": "e8e30437",
   "metadata": {},
   "outputs": [
    {
     "data": {
      "text/plain": [
       "6"
      ]
     },
     "execution_count": 5,
     "metadata": {},
     "output_type": "execute_result"
    }
   ],
   "source": [
    "def adding(a,b,c=0):   #default value: from righmost variable\n",
    "    return a+b+c\n",
    "adding(2,3)\n",
    "adding(1,2,3)"
   ]
  },
  {
   "cell_type": "code",
   "execution_count": 6,
   "id": "6601a615",
   "metadata": {},
   "outputs": [
    {
     "data": {
      "text/plain": [
       "36"
      ]
     },
     "execution_count": 6,
     "metadata": {},
     "output_type": "execute_result"
    }
   ],
   "source": [
    "def adding(*args):\n",
    "    return sum(args)\n",
    "adding(1,2,3,4,5,6,7,8)"
   ]
  },
  {
   "cell_type": "code",
   "execution_count": 7,
   "id": "20ed80e0",
   "metadata": {},
   "outputs": [
    {
     "data": {
      "text/plain": [
       "8"
      ]
     },
     "execution_count": 7,
     "metadata": {},
     "output_type": "execute_result"
    }
   ],
   "source": [
    "def func_mul(*args):\n",
    "    res=1\n",
    "    for x in args:\n",
    "        if(x!=0):\n",
    "            res*=int(x)\n",
    "    return (res)\n",
    "func_mul(2,4,1)"
   ]
  },
  {
   "cell_type": "code",
   "execution_count": 9,
   "id": "08ac04ea",
   "metadata": {},
   "outputs": [
    {
     "name": "stdout",
     "output_type": "stream",
     "text": [
      "[196, 225, 256, 289, 324, 361]\n"
     ]
    }
   ],
   "source": [
    "def formula(a):\n",
    "    return (a+10)**2\n",
    "data=[4,5,6,7,8,9]\n",
    "res=[]\n",
    "for x in data:\n",
    "    res.append(formula(x))\n",
    "print(res)"
   ]
  },
  {
   "cell_type": "code",
   "execution_count": 10,
   "id": "64eab20a",
   "metadata": {},
   "outputs": [
    {
     "data": {
      "text/plain": [
       "[196, 225, 256, 289, 324, 361]"
      ]
     },
     "execution_count": 10,
     "metadata": {},
     "output_type": "execute_result"
    }
   ],
   "source": [
    "#map: (function(only one argument),iterable)\n",
    "def formula(a):\n",
    "    return (a+10)**2\n",
    "data=[4,5,6,7,8,9]\n",
    "list(map(formula,data))"
   ]
  },
  {
   "cell_type": "code",
   "execution_count": 11,
   "id": "1828fb69",
   "metadata": {},
   "outputs": [
    {
     "data": {
      "text/plain": [
       "[4, 4, 4, 4, 4]"
      ]
     },
     "execution_count": 11,
     "metadata": {},
     "output_type": "execute_result"
    }
   ],
   "source": [
    "a=[3,4,5,6,7]\n",
    "b=[1,2,3,4,5]\n",
    "def formula(x):\n",
    "    return (x[0]-x[1])**2\n",
    "list(map(formula,zip(a,b)))"
   ]
  },
  {
   "cell_type": "code",
   "execution_count": 15,
   "id": "403fa958",
   "metadata": {},
   "outputs": [
    {
     "data": {
      "text/plain": [
       "[1, 3, 5, 7, 9, 11, 13, 15, 17, 19, 21, 23]"
      ]
     },
     "execution_count": 15,
     "metadata": {},
     "output_type": "execute_result"
    }
   ],
   "source": [
    "def num_gen(num_len,OE):\n",
    "    res_odd=[]\n",
    "    res_even=[]\n",
    "    for x in range(num_len):\n",
    "        if x%2==0:\n",
    "            res_even.append(x)\n",
    "        else:\n",
    "            res_odd.append(x)\n",
    "    if OE==\"odd\":\n",
    "        return res_odd\n",
    "    elif OE==\"even\":\n",
    "        return res_even\n",
    "    else:\n",
    "        print(\"NO DATA\")\n",
    "        \n",
    "data={\"num_len\":25,\"OE\":\"odd\"}\n",
    "num_gen(**data)  #quarks converts to dictionary like how *args is for tuples"
   ]
  },
  {
   "cell_type": "code",
   "execution_count": 16,
   "id": "845492d9",
   "metadata": {},
   "outputs": [
    {
     "data": {
      "text/plain": [
       "[1, 3, 5, 7, 9, 11, 13, 15, 17, 19, 21, 23]"
      ]
     },
     "execution_count": 16,
     "metadata": {},
     "output_type": "execute_result"
    }
   ],
   "source": [
    "def num_gen(num_len,OE):\n",
    "    if OE==\"odd\":\n",
    "        return [x for x in range(num_len) if(x%2==1)]\n",
    "    elif OE==\"even\":\n",
    "        return [x for x in range(num_len) if(x%2==0)]\n",
    "    else:\n",
    "        print(\"NO DATA\") \n",
    "data={\"num_len\":25,\"OE\":\"odd\"}\n",
    "num_gen(**data)"
   ]
  },
  {
   "cell_type": "code",
   "execution_count": 18,
   "id": "fa4d2595",
   "metadata": {},
   "outputs": [
    {
     "data": {
      "text/plain": [
       "[2, 3, 3, 3]"
      ]
     },
     "execution_count": 18,
     "metadata": {},
     "output_type": "execute_result"
    }
   ],
   "source": [
    "data=[2,3,3,0,3,0] #None and 0 are considered nil in python\n",
    "list(filter(None,data))"
   ]
  },
  {
   "cell_type": "markdown",
   "id": "b6086db6",
   "metadata": {},
   "source": [
    "### CONTROL FLOW\n",
    "Already covered: if-else, for statements, range function"
   ]
  },
  {
   "cell_type": "code",
   "execution_count": 5,
   "id": "e55e8d7e",
   "metadata": {},
   "outputs": [
    {
     "name": "stdout",
     "output_type": "stream",
     "text": [
      "2 is a prime number\n",
      "3 is a prime number\n",
      "4 equals 2 * 2\n",
      "5 is a prime number\n",
      "6 equals 2 * 3\n",
      "7 is a prime number\n",
      "8 equals 2 * 4\n",
      "9 equals 3 * 3\n",
      "2 is even\n",
      "3 is odd\n",
      "4 is even\n",
      "5 is odd\n",
      "6 is even\n",
      "7 is odd\n",
      "8 is even\n",
      "9 is odd\n"
     ]
    }
   ],
   "source": [
    "#Break and Continue Statements\n",
    "#Break statement\n",
    "\n",
    "for n in range(2, 10):\n",
    "    for x in range(2, n):\n",
    "        if n % x == 0:\n",
    "            print(n, 'equals', x, '*', n//x)\n",
    "            break\n",
    "    else:\n",
    "        # loop fell through without finding a factor\n",
    "        print(n, 'is a prime number')\n",
    "        \n",
    "#Continue statement\n",
    "for num in range(2, 10):\n",
    "    if num % 2 == 0:\n",
    "        print(f\"{num} is even\")\n",
    "        continue\n",
    "    print(f\"{num} is odd\")"
   ]
  },
  {
   "cell_type": "code",
   "execution_count": 20,
   "id": "760a4a45",
   "metadata": {},
   "outputs": [
    {
     "data": {
      "text/plain": [
       "\"I'm a teapot\""
      ]
     },
     "execution_count": 20,
     "metadata": {},
     "output_type": "execute_result"
    }
   ],
   "source": [
    "#Case and match statement\n",
    "\n",
    "def http_error(status):\n",
    "    match status:\n",
    "        case 400:\n",
    "            return \"Bad request\"\n",
    "        case 401 | 403 | 405:\n",
    "            return \"Not allowed\"\n",
    "        case 404:\n",
    "            return \"Not found\"\n",
    "        case 418:\n",
    "            return \"I'm a teapot\"\n",
    "        case _:\n",
    "            return \"Something's wrong with the internet\"\n",
    "        \n",
    "http_error(418)"
   ]
  },
  {
   "cell_type": "markdown",
   "id": "70fc7db2",
   "metadata": {},
   "source": [
    "### LAMBDA EXPRESSION\n",
    "\n",
    "Name-less function\n",
    "Can be developed in one line. \n",
    "Function can be used when a new function has to be created in one line with basic input and formula"
   ]
  },
  {
   "cell_type": "code",
   "execution_count": 35,
   "id": "72a8af79",
   "metadata": {},
   "outputs": [
    {
     "name": "stdout",
     "output_type": "stream",
     "text": [
      "[16, 25, 36, 49, 64, 81]\n"
     ]
    }
   ],
   "source": [
    "data=[4,5,6,7,8,9]\n",
    "res=list(map(lambda a:a**2,data))\n",
    "print(res)"
   ]
  },
  {
   "cell_type": "code",
   "execution_count": 25,
   "id": "c7d985e9",
   "metadata": {},
   "outputs": [
    {
     "data": {
      "text/plain": [
       "121"
      ]
     },
     "execution_count": 25,
     "metadata": {},
     "output_type": "execute_result"
    }
   ],
   "source": [
    "z=lambda a:a**2\n",
    "z(10)\n",
    "z=lambda a,b:(a+b)**2\n",
    "z(10,1)"
   ]
  },
  {
   "cell_type": "code",
   "execution_count": 26,
   "id": "26125b31",
   "metadata": {},
   "outputs": [
    {
     "data": {
      "text/plain": [
       "121"
      ]
     },
     "execution_count": 26,
     "metadata": {},
     "output_type": "execute_result"
    }
   ],
   "source": [
    "z=lambda a:a**2\n",
    "z(10)\n",
    "z=lambda a,b:(a+b)**2\n",
    "z(10,1)"
   ]
  },
  {
   "cell_type": "code",
   "execution_count": 27,
   "id": "fb09cdb7",
   "metadata": {},
   "outputs": [
    {
     "data": {
      "text/plain": [
       "[2, 4, 6]"
      ]
     },
     "execution_count": 27,
     "metadata": {},
     "output_type": "execute_result"
    }
   ],
   "source": [
    "#FILTER (function:iterable)\n",
    "data=[1,2,3,4,5,6,7]\n",
    "list(filter(lambda a:a%2==0,data))"
   ]
  },
  {
   "cell_type": "code",
   "execution_count": 30,
   "id": "f5c5d30f",
   "metadata": {},
   "outputs": [
    {
     "data": {
      "text/plain": [
       "[True, False, False, True, False, True]"
      ]
     },
     "execution_count": 30,
     "metadata": {},
     "output_type": "execute_result"
    }
   ],
   "source": [
    "data=[2,3,3,0,3,0]\n",
    "list(filter(lambda a:a%2==0,data))\n",
    "list(map(lambda a:a%2==0,data))"
   ]
  },
  {
   "cell_type": "code",
   "execution_count": 32,
   "id": "b1885ea2",
   "metadata": {},
   "outputs": [
    {
     "data": {
      "text/plain": [
       "43"
      ]
     },
     "execution_count": 32,
     "metadata": {},
     "output_type": "execute_result"
    }
   ],
   "source": [
    "def make_incrementor(n):\n",
    "    return lambda x: x + n\n",
    "f = make_incrementor(42)\n",
    "f(0)\n",
    "f(1)"
   ]
  },
  {
   "cell_type": "code",
   "execution_count": 33,
   "id": "5ea2f6d3",
   "metadata": {},
   "outputs": [
    {
     "data": {
      "text/plain": [
       "[(4, 'four'), (1, 'one'), (3, 'three'), (2, 'two')]"
      ]
     },
     "execution_count": 33,
     "metadata": {},
     "output_type": "execute_result"
    }
   ],
   "source": [
    "pairs = [(1, 'one'), (2, 'two'), (3, 'three'), (4, 'four')]\n",
    "pairs.sort(key=lambda pair: pair[1])\n",
    "pairs"
   ]
  },
  {
   "cell_type": "code",
   "execution_count": null,
   "id": "3c4c0745",
   "metadata": {},
   "outputs": [],
   "source": [
    "#Password Masking\n",
    "from getpass import getpass\n",
    "username=input(\"Enter the username\")\n",
    "password=getpass(\"Enter the password\")"
   ]
  },
  {
   "cell_type": "code",
   "execution_count": null,
   "id": "011494cf",
   "metadata": {},
   "outputs": [],
   "source": []
  }
 ],
 "metadata": {
  "kernelspec": {
   "display_name": "Python 3 (ipykernel)",
   "language": "python",
   "name": "python3"
  },
  "language_info": {
   "codemirror_mode": {
    "name": "ipython",
    "version": 3
   },
   "file_extension": ".py",
   "mimetype": "text/x-python",
   "name": "python",
   "nbconvert_exporter": "python",
   "pygments_lexer": "ipython3",
   "version": "3.11.5"
  }
 },
 "nbformat": 4,
 "nbformat_minor": 5
}
