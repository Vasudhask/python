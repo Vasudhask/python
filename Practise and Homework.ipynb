{
 "cells": [
  {
   "cell_type": "markdown",
   "id": "ec5674cc",
   "metadata": {},
   "source": [
    "## Basic - I Exercises"
   ]
  },
  {
   "cell_type": "code",
   "execution_count": 1,
   "id": "42b2ce07",
   "metadata": {},
   "outputs": [
    {
     "name": "stdout",
     "output_type": "stream",
     "text": [
      "Twinkle, twinkle, little star, \n",
      "\tHow I wonder what you are! \n",
      "\t\tUp above the world so high,\n",
      "\t\t Like a diamond in the sky.\n",
      "Twinkle, twinkle, little star, \n",
      "\tHow I wonder what you are\n"
     ]
    }
   ],
   "source": [
    "#1\n",
    "print('''Twinkle, twinkle, little star, \\n\\tHow I wonder what you are! \\n\\t\\tUp above the world so high,\\n\\t\\t Like a diamond in the sky.\\nTwinkle, twinkle, little star, \\n\\tHow I wonder what you are''' )"
   ]
  },
  {
   "cell_type": "code",
   "execution_count": 2,
   "id": "84f2edeb",
   "metadata": {},
   "outputs": [
    {
     "name": "stdout",
     "output_type": "stream",
     "text": [
      "3.11.5 | packaged by Anaconda, Inc. | (main, Sep 11 2023, 13:26:23) [MSC v.1916 64 bit (AMD64)]\n"
     ]
    }
   ],
   "source": [
    "#2\n",
    "import sys\n",
    "print(sys.version)"
   ]
  },
  {
   "cell_type": "code",
   "execution_count": 3,
   "id": "cb7ee8a2",
   "metadata": {},
   "outputs": [
    {
     "name": "stdout",
     "output_type": "stream",
     "text": [
      "2024-03-15 10:19:45.474412\n"
     ]
    }
   ],
   "source": [
    "#3\n",
    "import datetime\n",
    "now=datetime.datetime.now()\n",
    "print(now)"
   ]
  },
  {
   "cell_type": "code",
   "execution_count": 4,
   "id": "d8670fd5",
   "metadata": {},
   "outputs": [
    {
     "name": "stdout",
     "output_type": "stream",
     "text": [
      "Enter radius7\n",
      "Area = 153.93804002589985\n"
     ]
    }
   ],
   "source": [
    "#4\n",
    "from math import pi\n",
    "r=float(input(\"Enter radius\"))\n",
    "print(\"Area =\",pi*r*r)"
   ]
  },
  {
   "cell_type": "code",
   "execution_count": 5,
   "id": "16491987",
   "metadata": {},
   "outputs": [
    {
     "name": "stdout",
     "output_type": "stream",
     "text": [
      "Enter first and last name\n",
      "james bond\n",
      "bond james\n"
     ]
    }
   ],
   "source": [
    "#5\n",
    "print(\"Enter first and last name\")\n",
    "firstname, lastname=map(str,input().split())\n",
    "print(f\"{lastname} {firstname}\")"
   ]
  },
  {
   "cell_type": "code",
   "execution_count": 6,
   "id": "be797da3",
   "metadata": {},
   "outputs": [
    {
     "name": "stdout",
     "output_type": "stream",
     "text": [
      "Enter comma seperated values: 1,2,3,4,5\n",
      "List is ['1', '2', '3', '4', '5']\n",
      "Tuple is ('1', '2', '3', '4', '5')\n"
     ]
    }
   ],
   "source": [
    "#6\n",
    "data=input('Enter comma seperated values: ')\n",
    "print(\"List is\",data.split(','))\n",
    "print(\"Tuple is\",tuple(data.split(',')))"
   ]
  },
  {
   "cell_type": "code",
   "execution_count": 7,
   "id": "4c92f150",
   "metadata": {},
   "outputs": [
    {
     "name": "stdout",
     "output_type": "stream",
     "text": [
      "Enter file name: image.jpg\n"
     ]
    },
    {
     "data": {
      "text/plain": [
       "'jpg'"
      ]
     },
     "execution_count": 7,
     "metadata": {},
     "output_type": "execute_result"
    }
   ],
   "source": [
    "#7\n",
    "filename=input(\"Enter file name: \")\n",
    "filename.split('.')[-1]"
   ]
  },
  {
   "cell_type": "code",
   "execution_count": 8,
   "id": "fc28e8ac",
   "metadata": {},
   "outputs": [
    {
     "name": "stdout",
     "output_type": "stream",
     "text": [
      "enter colours: red,green,white,black\n",
      "red black\n"
     ]
    }
   ],
   "source": [
    "#8\n",
    "colourlist=input(\"enter colours: \")\n",
    "newcolor=colourlist.split(',')\n",
    "print(newcolor[0], newcolor[-1])"
   ]
  },
  {
   "cell_type": "code",
   "execution_count": 9,
   "id": "36358226",
   "metadata": {},
   "outputs": [
    {
     "name": "stdout",
     "output_type": "stream",
     "text": [
      "Exam starts from: 11/12/2023\n"
     ]
    }
   ],
   "source": [
    "#9\n",
    "exam_start=(11,12,2023)\n",
    "print(\"Exam starts from: %i/%i/%i\" %exam_start)"
   ]
  },
  {
   "cell_type": "code",
   "execution_count": 10,
   "id": "5f60ebfa",
   "metadata": {},
   "outputs": [
    {
     "name": "stdout",
     "output_type": "stream",
     "text": [
      "Enter n value: 3\n",
      "369\n"
     ]
    }
   ],
   "source": [
    "#10\n",
    "n=int(input(\"Enter n value: \"))\n",
    "n1=int(\"%s\" %n)\n",
    "n2=int(\"%s%s\" %(n,n))\n",
    "n3=int(\"%s%s%s\" %(n,n,n))\n",
    "print(n1+n2+n3)"
   ]
  },
  {
   "cell_type": "code",
   "execution_count": 11,
   "id": "65a1f81c",
   "metadata": {},
   "outputs": [
    {
     "name": "stdout",
     "output_type": "stream",
     "text": [
      "Return the absolute value of the argument.\n"
     ]
    }
   ],
   "source": [
    "#11\n",
    "print(abs.__doc__)"
   ]
  },
  {
   "cell_type": "code",
   "execution_count": 12,
   "id": "446d15ad",
   "metadata": {},
   "outputs": [
    {
     "name": "stdout",
     "output_type": "stream",
     "text": [
      "enter year: 2002\n",
      "enter month number: 05\n",
      "      May 2002\n",
      "Mo Tu We Th Fr Sa Su\n",
      "       1  2  3  4  5\n",
      " 6  7  8  9 10 11 12\n",
      "13 14 15 16 17 18 19\n",
      "20 21 22 23 24 25 26\n",
      "27 28 29 30 31\n",
      "\n"
     ]
    }
   ],
   "source": [
    "#12\n",
    "import calendar\n",
    "y=int(input(\"enter year: \"))\n",
    "m=int(input(\"enter month number: \"))\n",
    "print(calendar.month(y,m))"
   ]
  },
  {
   "cell_type": "code",
   "execution_count": 13,
   "id": "aeb08842",
   "metadata": {},
   "outputs": [
    {
     "name": "stdout",
     "output_type": "stream",
     "text": [
      "a string that you \"don't\" have to escape\n",
      "This\n",
      "is a.......multiline\n",
      "heredoc string----->example \n"
     ]
    }
   ],
   "source": [
    "#13\n",
    "print('''a string that you \"don't\" have to escape\\nThis\\nis a.......multiline\\nheredoc string----->example ''')"
   ]
  },
  {
   "cell_type": "code",
   "execution_count": 14,
   "id": "f0d236d3",
   "metadata": {},
   "outputs": [
    {
     "name": "stdout",
     "output_type": "stream",
     "text": [
      "9\n"
     ]
    }
   ],
   "source": [
    "#14\n",
    "from datetime import date\n",
    "date_1=date(2014,7,2)\n",
    "date_2=date(2014,7,11)\n",
    "delta=date_2-date_1\n",
    "print(delta.days)"
   ]
  },
  {
   "cell_type": "code",
   "execution_count": 15,
   "id": "f926b2ec",
   "metadata": {},
   "outputs": [
    {
     "name": "stdout",
     "output_type": "stream",
     "text": [
      "Enter radius: 7\n",
      "Volume of sphere is: 1436.755040241732\n"
     ]
    }
   ],
   "source": [
    "#15\n",
    "from math import pi\n",
    "r=int(input(\"Enter radius: \"))\n",
    "print(\"Volume of sphere is:\",(4*pi*r**3)/3)"
   ]
  },
  {
   "cell_type": "code",
   "execution_count": 16,
   "id": "c86bbc51",
   "metadata": {},
   "outputs": [
    {
     "name": "stdout",
     "output_type": "stream",
     "text": [
      "Enter number5\n"
     ]
    },
    {
     "data": {
      "text/plain": [
       "24"
      ]
     },
     "execution_count": 16,
     "metadata": {},
     "output_type": "execute_result"
    }
   ],
   "source": [
    "#16\n",
    "data=int(input(\"Enter number\"))\n",
    "data-17 if data>17 else abs(data-17)*2"
   ]
  },
  {
   "cell_type": "code",
   "execution_count": 17,
   "id": "1e1a57c8",
   "metadata": {},
   "outputs": [
    {
     "name": "stdout",
     "output_type": "stream",
     "text": [
      "Enter number:5\n",
      "within 100\n"
     ]
    }
   ],
   "source": [
    "#17\n",
    "n=int(input(\"Enter number:\"))\n",
    "if(n<100):\n",
    "    print(\"within 100\")\n",
    "elif((n>=100) and (n<1000)):\n",
    "    print(\"within 1000\")\n",
    "elif((n>1000) and (n<2000)):\n",
    "    print(\"within 2000\")"
   ]
  },
  {
   "cell_type": "code",
   "execution_count": 19,
   "id": "d5408fde",
   "metadata": {},
   "outputs": [
    {
     "name": "stdout",
     "output_type": "stream",
     "text": [
      "enter 3 numbers a,b and c: \n",
      "1 2 3\n"
     ]
    },
    {
     "data": {
      "text/plain": [
       "6"
      ]
     },
     "execution_count": 19,
     "metadata": {},
     "output_type": "execute_result"
    }
   ],
   "source": [
    "#18\n",
    "print(\"enter 3 numbers a,b and c: \")\n",
    "a,b,c=map(int,input().split())\n",
    "3*(a+b+c) if (a==b)and(b==c)and(c==a) else a+b+c"
   ]
  },
  {
   "cell_type": "code",
   "execution_count": 21,
   "id": "2c3d86d7",
   "metadata": {},
   "outputs": [
    {
     "name": "stdout",
     "output_type": "stream",
     "text": [
      "enter string: if you can\n"
     ]
    },
    {
     "data": {
      "text/plain": [
       "'if you can'"
      ]
     },
     "execution_count": 21,
     "metadata": {},
     "output_type": "execute_result"
    }
   ],
   "source": [
    "#19\n",
    "data=input(\"enter string: \")\n",
    "data if((data.startswith(\"If \")) or (data.startswith(\"if\"))) else \"If \"+data"
   ]
  },
  {
   "cell_type": "code",
   "execution_count": 22,
   "id": "92d5d25e",
   "metadata": {},
   "outputs": [
    {
     "name": "stdout",
     "output_type": "stream",
     "text": [
      "enter value n: 3\n",
      "enter string: momo\n",
      "momomomomomo\n"
     ]
    }
   ],
   "source": [
    "#20\n",
    "n=int(input(\"enter value n: \"))\n",
    "data=input(\"enter string: \")\n",
    "print(data*n)"
   ]
  },
  {
   "cell_type": "code",
   "execution_count": 23,
   "id": "9730886e",
   "metadata": {},
   "outputs": [
    {
     "name": "stdout",
     "output_type": "stream",
     "text": [
      "enter number3\n"
     ]
    },
    {
     "data": {
      "text/plain": [
       "'odd'"
      ]
     },
     "execution_count": 23,
     "metadata": {},
     "output_type": "execute_result"
    }
   ],
   "source": [
    "#21\n",
    "n=int(input(\"enter number\"))\n",
    "\"even\" if n%2==0 else \"odd\" "
   ]
  },
  {
   "cell_type": "code",
   "execution_count": 24,
   "id": "7ac6c429",
   "metadata": {},
   "outputs": [
    {
     "name": "stdout",
     "output_type": "stream",
     "text": [
      "enter the list1,2,3,3,4,4,4,4,4,5\n",
      "5\n"
     ]
    }
   ],
   "source": [
    "#22\n",
    "data=input(\"enter the list\").split(\",\")\n",
    "print(data.count(\"4\"))"
   ]
  },
  {
   "cell_type": "code",
   "execution_count": 25,
   "id": "145d90fa",
   "metadata": {},
   "outputs": [
    {
     "name": "stdout",
     "output_type": "stream",
     "text": [
      "enter the string: momo\n",
      "enter number3\n"
     ]
    },
    {
     "data": {
      "text/plain": [
       "'momomo'"
      ]
     },
     "execution_count": 25,
     "metadata": {},
     "output_type": "execute_result"
    }
   ],
   "source": [
    "#23\n",
    "data=input(\"enter the string: \")\n",
    "n=int(input(\"enter number\"))\n",
    "length=len(data)\n",
    "data*n if length<2 else n*data[0:2]"
   ]
  },
  {
   "cell_type": "code",
   "execution_count": 26,
   "id": "0b7ab5af",
   "metadata": {},
   "outputs": [
    {
     "name": "stdout",
     "output_type": "stream",
     "text": [
      "enter letter:d\n"
     ]
    },
    {
     "data": {
      "text/plain": [
       "'consonent'"
      ]
     },
     "execution_count": 26,
     "metadata": {},
     "output_type": "execute_result"
    }
   ],
   "source": [
    "#24\n",
    "data=input(\"enter letter:\")\n",
    "\"vowel\" if (data==(\"a\")or data==(\"e\")or data==(\"i\")or data==(\"o\")or data==(\"u\")) else \"consonent\""
   ]
  },
  {
   "cell_type": "code",
   "execution_count": 28,
   "id": "8ec61bfc",
   "metadata": {},
   "outputs": [
    {
     "name": "stdout",
     "output_type": "stream",
     "text": [
      "Enter list: 1,2,3,4,5,6\n",
      "Enter search element: 7\n"
     ]
    },
    {
     "data": {
      "text/plain": [
       "'False'"
      ]
     },
     "execution_count": 28,
     "metadata": {},
     "output_type": "execute_result"
    }
   ],
   "source": [
    "#25\n",
    "data=input('Enter list: ')\n",
    "n=input('Enter search element: ')\n",
    "\"True\" if n in data else \"False\""
   ]
  },
  {
   "cell_type": "code",
   "execution_count": null,
   "id": "1e9458cf",
   "metadata": {},
   "outputs": [],
   "source": [
    "#26"
   ]
  },
  {
   "cell_type": "code",
   "execution_count": 29,
   "id": "96c1660a",
   "metadata": {},
   "outputs": [
    {
     "name": "stdout",
     "output_type": "stream",
     "text": [
      "enter elements: 1,2,3,4,5\n",
      "15\n"
     ]
    }
   ],
   "source": [
    "#27\n",
    "data=input(\"enter elements: \").split(',')\n",
    "res=0\n",
    "for i in data:\n",
    "    res+=int(i)\n",
    "print(res)"
   ]
  },
  {
   "cell_type": "code",
   "execution_count": 30,
   "id": "63e2be17",
   "metadata": {},
   "outputs": [
    {
     "name": "stdout",
     "output_type": "stream",
     "text": [
      "enter numbers: 1,2,3,4,5\n",
      "2\n",
      "4\n"
     ]
    }
   ],
   "source": [
    "#28\n",
    "numb=input(\"enter numbers: \")\n",
    "numbers=numb.split(',')\n",
    "for i in numbers:\n",
    "        if(int(i)==237):\n",
    "            break\n",
    "        if(int(i)%2==0):\n",
    "            print(i)"
   ]
  },
  {
   "cell_type": "code",
   "execution_count": 31,
   "id": "a43469d6",
   "metadata": {},
   "outputs": [
    {
     "name": "stdout",
     "output_type": "stream",
     "text": [
      "{'pink', 'purple', 'White', 'Black'}\n",
      "{'purple', 'White', 'Black'}\n"
     ]
    }
   ],
   "source": [
    "#29\n",
    "color_list_1 = set([\"White\",\"pink\",\"purple\",\"Black\", \"Red\"])\n",
    "color_list_2 = set([\"Red\", \"Green\",\"pink\"])\n",
    "for x in color_list_2:\n",
    "    if(x in color_list_1):\n",
    "        color_list_1.remove(x)\n",
    "        print(color_list_1)"
   ]
  },
  {
   "cell_type": "code",
   "execution_count": 32,
   "id": "2ba1cc9b",
   "metadata": {},
   "outputs": [
    {
     "name": "stdout",
     "output_type": "stream",
     "text": [
      "enter base14\n",
      "enter height30\n",
      "Area of triangle = 210.0\n"
     ]
    }
   ],
   "source": [
    "#30\n",
    "base=int(input(\"enter base\"))\n",
    "height=float(input(\"enter height\"))\n",
    "print(\"Area of triangle =\",(0.5*base*height))"
   ]
  },
  {
   "cell_type": "code",
   "execution_count": 33,
   "id": "09652639",
   "metadata": {},
   "outputs": [
    {
     "name": "stdout",
     "output_type": "stream",
     "text": [
      "enter 1st no.: 2\n",
      "enter 2nd no.: 3\n"
     ]
    },
    {
     "data": {
      "text/plain": [
       "6"
      ]
     },
     "execution_count": 33,
     "metadata": {},
     "output_type": "execute_result"
    }
   ],
   "source": [
    "#31\n",
    "import math\n",
    "a=int(input(\"enter 1st no.: \"))\n",
    "b=int(input(\"enter 2nd no.: \"))\n",
    "math.lcm(a,b)"
   ]
  },
  {
   "cell_type": "code",
   "execution_count": 34,
   "id": "ee6597ab",
   "metadata": {},
   "outputs": [
    {
     "name": "stdout",
     "output_type": "stream",
     "text": [
      "enter 1st no.: 3\n",
      "enter 2nd no.: 6\n"
     ]
    },
    {
     "data": {
      "text/plain": [
       "3"
      ]
     },
     "execution_count": 34,
     "metadata": {},
     "output_type": "execute_result"
    }
   ],
   "source": [
    "#32\n",
    "import math\n",
    "a=int(input(\"enter 1st no.: \"))\n",
    "b=int(input(\"enter 2nd no.: \"))\n",
    "math.gcd(a,b)"
   ]
  },
  {
   "cell_type": "code",
   "execution_count": 36,
   "id": "fa3be3f6",
   "metadata": {},
   "outputs": [
    {
     "name": "stdout",
     "output_type": "stream",
     "text": [
      "2 2 3\n"
     ]
    },
    {
     "data": {
      "text/plain": [
       "'0'"
      ]
     },
     "execution_count": 36,
     "metadata": {},
     "output_type": "execute_result"
    }
   ],
   "source": [
    "#33\n",
    "a,b,c = map(int,input().split())\n",
    "\"0\" if (a==b) or (b==c) or(c==a) else a+b+c"
   ]
  },
  {
   "cell_type": "code",
   "execution_count": 39,
   "id": "a77e9177",
   "metadata": {},
   "outputs": [
    {
     "name": "stdout",
     "output_type": "stream",
     "text": [
      "enter 1st no.: 18\n",
      "enter 2nd no.: 1\n"
     ]
    },
    {
     "data": {
      "text/plain": [
       "'20'"
      ]
     },
     "execution_count": 39,
     "metadata": {},
     "output_type": "execute_result"
    }
   ],
   "source": [
    "#34\n",
    "a=int(input(\"enter 1st no.: \"))\n",
    "b=int(input(\"enter 2nd no.: \"))\n",
    "summ=a+b\n",
    "\"20\" if (summ>15) and (summ<20) else summ"
   ]
  },
  {
   "cell_type": "code",
   "execution_count": 40,
   "id": "1d7427f1",
   "metadata": {
    "scrolled": true
   },
   "outputs": [
    {
     "name": "stdout",
     "output_type": "stream",
     "text": [
      "enter 1st no.: 3\n",
      "enter 2nd no.: 4\n"
     ]
    },
    {
     "data": {
      "text/plain": [
       "'False'"
      ]
     },
     "execution_count": 40,
     "metadata": {},
     "output_type": "execute_result"
    }
   ],
   "source": [
    "#35\n",
    "a=int(input(\"enter 1st no.: \"))\n",
    "b=int(input(\"enter 2nd no.: \"))\n",
    "\"True\" if (a==b)or((b-a)==5)or((a+b)==5)or((a-b)==5) else \"False\""
   ]
  },
  {
   "cell_type": "code",
   "execution_count": 42,
   "id": "fa6a29cd",
   "metadata": {},
   "outputs": [
    {
     "name": "stdout",
     "output_type": "stream",
     "text": [
      "enter value 1: 3\n",
      "enter value 2: momo\n",
      "error\n"
     ]
    }
   ],
   "source": [
    "#36\n",
    "a=input(\"enter value 1: \")\n",
    "b=input(\"enter value 2: \")\n",
    "if((a.isnumeric()) and (b.isnumeric())):\n",
    "    print(int(a)+int(b))\n",
    "else:\n",
    "    print(\"error\")"
   ]
  },
  {
   "cell_type": "code",
   "execution_count": 43,
   "id": "e5f5efb1",
   "metadata": {},
   "outputs": [
    {
     "name": "stdout",
     "output_type": "stream",
     "text": [
      "enter name: james\n",
      "enter age: 40\n",
      "enter address: rainbowland\n",
      "Name is:  james\n",
      "Age is:  40\n",
      "Address is:  rainbowland\n"
     ]
    }
   ],
   "source": [
    "#37\n",
    "a=input(\"enter name: \")\n",
    "b=input(\"enter age: \")\n",
    "c=input('enter address: ')\n",
    "print(\"Name is: \",a)\n",
    "print(\"Age is: \",b)\n",
    "print(\"Address is: \",c)"
   ]
  },
  {
   "cell_type": "code",
   "execution_count": 44,
   "id": "4c719644",
   "metadata": {},
   "outputs": [
    {
     "name": "stdout",
     "output_type": "stream",
     "text": [
      "enter x value: 3\n",
      "enter y value: 4\n",
      "(3+4)*(3+4)is 49\n"
     ]
    }
   ],
   "source": [
    "#38\n",
    "x=int(input(\"enter x value: \"))\n",
    "y=int(input(\"enter y value: \"))\n",
    "print(f\"({x}+{y})*({x}+{y})is\",((x+y)*(x+y)))"
   ]
  },
  {
   "cell_type": "code",
   "execution_count": 45,
   "id": "6bb230e3",
   "metadata": {},
   "outputs": [
    {
     "name": "stdout",
     "output_type": "stream",
     "text": [
      "enter principle:40000\n",
      "enter rate: 7\n",
      "enter time period: 3\n",
      "simple interest is:  8400.0\n",
      "compound interest is:  49001.72\n"
     ]
    }
   ],
   "source": [
    "#39\n",
    "p=float(input(\"enter principle:\"))\n",
    "r=float(input(\"enter rate: \"))\n",
    "t=float(input(\"enter time period: \"))\n",
    "print(\"simple interest is: \",((p*r*t)/100))\n",
    "print(\"compound interest is: \",(p*(1+(r/100))**t))"
   ]
  },
  {
   "cell_type": "code",
   "execution_count": 47,
   "id": "2f291004",
   "metadata": {},
   "outputs": [
    {
     "name": "stdout",
     "output_type": "stream",
     "text": [
      "enter x1: 2\n",
      "enter x2: 3\n",
      "enter y1: 4\n",
      "enter y2: 6\n",
      "Distance is:  2.0\n"
     ]
    }
   ],
   "source": [
    "#40\n",
    "x1=int(input(\"enter x1: \"))\n",
    "x2=int(input(\"enter x2: \"))\n",
    "y1=int(input(\"enter y1: \"))\n",
    "y2=int(input(\"enter y2: \"))\n",
    "print(\"Distance is: \",((y2-y1)/(x2-x1)))"
   ]
  },
  {
   "cell_type": "code",
   "execution_count": 48,
   "id": "a7f2c8d4",
   "metadata": {},
   "outputs": [
    {
     "name": "stdout",
     "output_type": "stream",
     "text": [
      "enter positive number 'n': 5\n",
      "15\n"
     ]
    }
   ],
   "source": [
    "#58\n",
    "n=int(input(\"enter positive number 'n': \"))\n",
    "res=0\n",
    "for i in range(0,n+1):\n",
    "    res+=i\n",
    "print(res)"
   ]
  },
  {
   "cell_type": "code",
   "execution_count": 49,
   "id": "60eecd8e",
   "metadata": {},
   "outputs": [
    {
     "name": "stdout",
     "output_type": "stream",
     "text": [
      "enter height in feet and inches (feet,inches):5,2\n",
      "height is:  154\n"
     ]
    }
   ],
   "source": [
    "#59\n",
    "h=input(\"enter height in feet and inches (feet,inches):\")\n",
    "newh=h.split(',')\n",
    "print(\"height is: \",(int(newh[0])*30+int(newh[1])*2))"
   ]
  },
  {
   "cell_type": "code",
   "execution_count": 51,
   "id": "33ec0570",
   "metadata": {},
   "outputs": [
    {
     "name": "stdout",
     "output_type": "stream",
     "text": [
      "enter 1 side value: 3\n",
      "enter 2 side value: 4\n",
      "Hypotenuse is:  5.0\n"
     ]
    }
   ],
   "source": [
    "#60\n",
    "from math import sqrt\n",
    "a=int(input(\"enter 1 side value: \"))\n",
    "b=int(input(\"enter 2 side value: \"))\n",
    "print(\"Hypotenuse is: \",sqrt(a**2+b**2))"
   ]
  },
  {
   "cell_type": "code",
   "execution_count": null,
   "id": "948ff962",
   "metadata": {},
   "outputs": [],
   "source": [
    "#61\n",
    "#distance to inches, yards and miles\n",
    "#easy so skip"
   ]
  },
  {
   "cell_type": "code",
   "execution_count": 53,
   "id": "828c9e07",
   "metadata": {},
   "outputs": [
    {
     "name": "stdout",
     "output_type": "stream",
     "text": [
      "enter time (days, hours, minutes, seconds): 5,12,3,4\n",
      "total time in seconds is:  475384\n"
     ]
    }
   ],
   "source": [
    "#62 \n",
    "time=input(\"enter time (days, hours, minutes, seconds): \")\n",
    "newtime=time.split(',')\n",
    "print(\"total time in seconds is: \",(int(newtime[0])*86400+int(newtime[1])*3600+int(newtime[2])*60+int(newtime[3])))"
   ]
  },
  {
   "cell_type": "code",
   "execution_count": 55,
   "id": "0d62e056",
   "metadata": {},
   "outputs": [
    {
     "name": "stdout",
     "output_type": "stream",
     "text": [
      "enter seconds: 475384\n",
      "5:12:3:3\n"
     ]
    }
   ],
   "source": [
    "#65\n",
    "sec=int(input(\"enter seconds: \"))\n",
    "days=sec//86400\n",
    "hours=int((float(sec/86400)-days)*24)\n",
    "hour=(float(sec/86400)-days)*24\n",
    "minutes=int((hour-hours)*60)\n",
    "minute=(hour-hours)*60\n",
    "seconds=int((minute-minutes)*60)\n",
    "print(f\"{days}:{hours}:{minutes}:{seconds}\")"
   ]
  },
  {
   "cell_type": "code",
   "execution_count": 56,
   "id": "01d482eb",
   "metadata": {},
   "outputs": [
    {
     "name": "stdout",
     "output_type": "stream",
     "text": [
      "enter height in metres: 1.54\n",
      "enter weight in kgs: 38\n",
      "BMI is:  16.02293810086018\n"
     ]
    }
   ],
   "source": [
    "#66\n",
    "h=float(input(\"enter height in metres: \"))\n",
    "w=float(input(\"enter weight in kgs: \"))\n",
    "print(\"BMI is: \",(w/(h**2)))"
   ]
  },
  {
   "cell_type": "code",
   "execution_count": null,
   "id": "96893a3c",
   "metadata": {},
   "outputs": [],
   "source": [
    "#67\n",
    "#atmospheric pressure, just conversion, skip"
   ]
  },
  {
   "cell_type": "code",
   "execution_count": 62,
   "id": "e561de72",
   "metadata": {},
   "outputs": [
    {
     "name": "stdout",
     "output_type": "stream",
     "text": [
      "enter: 4\n",
      "4\n"
     ]
    }
   ],
   "source": [
    "#68\n",
    "# data=input(\"enter: \")\n",
    "# res=0\n",
    "# for i in data:\n",
    "#     res+=int(i)\n",
    "# print(res)"
   ]
  },
  {
   "cell_type": "code",
   "execution_count": 68,
   "id": "fdd5a6db",
   "metadata": {},
   "outputs": [
    {
     "name": "stdout",
     "output_type": "stream",
     "text": [
      "['10', '11', '22', '39', '49', '9']\n"
     ]
    }
   ],
   "source": [
    "#69\n",
    "# a=input(\"enter 3 numbers: \").split(',')\n",
    "# a.sort()\n",
    "# print(a)"
   ]
  },
  {
   "cell_type": "code",
   "execution_count": 69,
   "id": "1cc40c47",
   "metadata": {},
   "outputs": [
    {
     "name": "stdout",
     "output_type": "stream",
     "text": [
      "['__doc__', '__loader__', '__name__', '__package__', '__spec__', 'acos', 'acosh', 'asin', 'asinh', 'atan', 'atan2', 'atanh', 'cbrt', 'ceil', 'comb', 'copysign', 'cos', 'cosh', 'degrees', 'dist', 'e', 'erf', 'erfc', 'exp', 'exp2', 'expm1', 'fabs', 'factorial', 'floor', 'fmod', 'frexp', 'fsum', 'gamma', 'gcd', 'hypot', 'inf', 'isclose', 'isfinite', 'isinf', 'isnan', 'isqrt', 'lcm', 'ldexp', 'lgamma', 'log', 'log10', 'log1p', 'log2', 'modf', 'nan', 'nextafter', 'perm', 'pi', 'pow', 'prod', 'radians', 'remainder', 'sin', 'sinh', 'sqrt', 'tan', 'tanh', 'tau', 'trunc', 'ulp']\n"
     ]
    }
   ],
   "source": [
    "#72\n",
    "import math\n",
    "print(dir(math))"
   ]
  },
  {
   "cell_type": "code",
   "execution_count": 70,
   "id": "6427787a",
   "metadata": {},
   "outputs": [
    {
     "name": "stdout",
     "output_type": "stream",
     "text": [
      "enter the coordinates in format(x1,y1,x2,y2): 2,3,4,5\n",
      "Midpoint of the line is: 3.0 , 4.0\n"
     ]
    }
   ],
   "source": [
    "#73\n",
    "data=input(\"enter the coordinates in format(x1,y1,x2,y2): \").split(',')\n",
    "print(f\"Midpoint of the line is:\",(int(data[0])+int(data[2]))/2,\",\",(int(data[1])+int(data[3]))/2)"
   ]
  },
  {
   "cell_type": "code",
   "execution_count": 71,
   "id": "88d8f412",
   "metadata": {},
   "outputs": [
    {
     "name": "stdout",
     "output_type": "stream",
     "text": [
      "enter string: momo\n",
      "enter number of times to concatenate: 3\n",
      "momomomomomo\n"
     ]
    }
   ],
   "source": [
    "#81\n",
    "data=input(\"enter string: \")\n",
    "n=int(input(\"enter number of times to concatenate: \"))\n",
    "print(data*n)"
   ]
  },
  {
   "cell_type": "code",
   "execution_count": 74,
   "id": "f93f3ef0",
   "metadata": {},
   "outputs": [
    {
     "name": "stdout",
     "output_type": "stream",
     "text": [
      "enter numbers: 1,2,3,4\n",
      "enter number to compare with: 3\n",
      "Numbers in the list greater than 3 is:  4\n"
     ]
    }
   ],
   "source": [
    "#83\n",
    "data=input(\"enter numbers: \").split(',')\n",
    "number=int(input(\"enter number to compare with: \"))\n",
    "for i in data:\n",
    "    if(int(i)>number):\n",
    "        print(f\"Numbers in the list greater than {number} is: \",i)"
   ]
  },
  {
   "cell_type": "code",
   "execution_count": 75,
   "id": "a5369d09",
   "metadata": {},
   "outputs": [
    {
     "name": "stdout",
     "output_type": "stream",
     "text": [
      "enter string: how much wood would a wood chuck chuck?\n",
      "Number of w's are: 4\n"
     ]
    }
   ],
   "source": [
    "#84\n",
    "data=input(\"enter string: \")\n",
    "print(\"Number of w's are:\",data.count('w'))"
   ]
  },
  {
   "cell_type": "code",
   "execution_count": 77,
   "id": "03b35735",
   "metadata": {},
   "outputs": [
    {
     "name": "stdout",
     "output_type": "stream",
     "text": [
      "Enter the character whose ASCII code needs to be found:A\n"
     ]
    },
    {
     "data": {
      "text/plain": [
       "65"
      ]
     },
     "execution_count": 77,
     "metadata": {},
     "output_type": "execute_result"
    }
   ],
   "source": [
    "#86\n",
    "c=input(\"Enter the character whose ASCII code needs to be found:\")\n",
    "ord(c)"
   ]
  },
  {
   "cell_type": "code",
   "execution_count": 78,
   "id": "8866db76",
   "metadata": {},
   "outputs": [
    {
     "name": "stdout",
     "output_type": "stream",
     "text": [
      "30+20= 50\n"
     ]
    }
   ],
   "source": [
    "#88\n",
    "x=30\n",
    "y=20\n",
    "print(f\"{x}+{y}=\",(x+y))"
   ]
  },
  {
   "cell_type": "code",
   "execution_count": 80,
   "id": "8fc9d91e",
   "metadata": {},
   "outputs": [
    {
     "name": "stdout",
     "output_type": "stream",
     "text": [
      "enter date of the month: 1\n",
      "its the first day of the month!\n"
     ]
    }
   ],
   "source": [
    "#89\n",
    "data=int(input(\"enter date of the month: \"))\n",
    "if(data==1):\n",
    "    print(\"its the first day of the month!\")"
   ]
  },
  {
   "cell_type": "code",
   "execution_count": 81,
   "id": "20919a90",
   "metadata": {},
   "outputs": [
    {
     "name": "stdout",
     "output_type": "stream",
     "text": [
      "enter first variable: 2\n",
      "enter second variable: 3\n",
      "first variable is 3\n",
      "second variable is 2\n"
     ]
    }
   ],
   "source": [
    "#91\n",
    "a=int(input('enter first variable: '))\n",
    "b=int(input('enter second variable: '))\n",
    "temp=a\n",
    "a=b\n",
    "b=temp\n",
    "print(\"first variable is\",a)\n",
    "print(\"second variable is\",b)"
   ]
  },
  {
   "cell_type": "code",
   "execution_count": 82,
   "id": "2145ca75",
   "metadata": {},
   "outputs": [
    {
     "name": "stdout",
     "output_type": "stream",
     "text": [
      "':'{%$}*@#\n"
     ]
    }
   ],
   "source": [
    "#92\n",
    "data=(\"':'{%$}*@#\")\n",
    "print(data)"
   ]
  },
  {
   "cell_type": "code",
   "execution_count": 83,
   "id": "77334e26",
   "metadata": {},
   "outputs": [
    {
     "name": "stdout",
     "output_type": "stream",
     "text": [
      "<class 'str'>\n",
      "1943781791248\n",
      "vasu123@yahoo.com\n"
     ]
    }
   ],
   "source": [
    "#93 (VALUE=ADDRESS)\n",
    "data=\"vasu123@yahoo.com\"\n",
    "print(type(data))\n",
    "print(id(data))\n",
    "print(data)"
   ]
  },
  {
   "cell_type": "code",
   "execution_count": 84,
   "id": "4472a266",
   "metadata": {},
   "outputs": [
    {
     "name": "stdout",
     "output_type": "stream",
     "text": [
      "enter string: momo\n"
     ]
    },
    {
     "data": {
      "text/plain": [
       "False"
      ]
     },
     "execution_count": 84,
     "metadata": {},
     "output_type": "execute_result"
    }
   ],
   "source": [
    "#95\n",
    "data=input(\"enter string: \")\n",
    "data.isdigit()"
   ]
  },
  {
   "cell_type": "code",
   "execution_count": 86,
   "id": "29e204d0",
   "metadata": {},
   "outputs": [
    {
     "name": "stdout",
     "output_type": "stream",
     "text": [
      "enter numbers: 45\n",
      "45\n"
     ]
    }
   ],
   "source": [
    "#110\n",
    "data=input(\"enter numbers: \").split(',')\n",
    "for i in data:\n",
    "    if(int(i)%15==0):\n",
    "        print(i)"
   ]
  },
  {
   "cell_type": "code",
   "execution_count": 87,
   "id": "744db871",
   "metadata": {},
   "outputs": [
    {
     "name": "stdout",
     "output_type": "stream",
     "text": [
      "enter value: 3\n",
      "[]\n"
     ]
    }
   ],
   "source": [
    "#112\n",
    "data=input(\"enter value: \").split(',')\n",
    "data.remove(data[0])\n",
    "print(data)"
   ]
  },
  {
   "cell_type": "code",
   "execution_count": 91,
   "id": "3afd13be",
   "metadata": {},
   "outputs": [],
   "source": [
    "# #113\n",
    "# while True:\n",
    "#     try:\n",
    "#         data=int(input(\"enter number: \"))\n",
    "#         print(\"number is:\",data)\n",
    "#     except ValueError:\n",
    "#         print(\"error\")"
   ]
  },
  {
   "cell_type": "code",
   "execution_count": 94,
   "id": "cb44190e",
   "metadata": {},
   "outputs": [
    {
     "name": "stdout",
     "output_type": "stream",
     "text": [
      "enter numbers: 1,2,3,-9,-7,6\n",
      "Positive numbers are:  1\n",
      "Positive numbers are:  2\n",
      "Positive numbers are:  3\n",
      "Positive numbers are:  6\n"
     ]
    }
   ],
   "source": [
    "#114\n",
    "data=input(\"enter numbers: \").split(',')\n",
    "for i in data:\n",
    "    if(int(i)>0):\n",
    "        print(\"Positive numbers are: \",i)"
   ]
  },
  {
   "cell_type": "code",
   "execution_count": 95,
   "id": "0b3efc80",
   "metadata": {},
   "outputs": [
    {
     "name": "stdout",
     "output_type": "stream",
     "text": [
      "enter list of intergers: 1,2,3,4,5\n",
      "120\n"
     ]
    }
   ],
   "source": [
    "#115\n",
    "data=input(\"enter list of intergers: \")\n",
    "res=1\n",
    "for i in data.split(','):\n",
    "    res*=int(i)\n",
    "print(res)"
   ]
  },
  {
   "cell_type": "code",
   "execution_count": 96,
   "id": "ede1b1b7",
   "metadata": {},
   "outputs": [
    {
     "name": "stdout",
     "output_type": "stream",
     "text": [
      "enter value of string x: 2\n",
      "enter value of string y: 3\n",
      "Address of 2 is:  140731859614904\n",
      "Address of 3 is: 140731859614960\n"
     ]
    },
    {
     "data": {
      "text/plain": [
       "False"
      ]
     },
     "execution_count": 96,
     "metadata": {},
     "output_type": "execute_result"
    }
   ],
   "source": [
    "#117\n",
    "x=input(\"enter value of string x: \")\n",
    "y=input(\"enter value of string y: \")\n",
    "print(f\"Address of {x} is: \",id(x))\n",
    "print(f\"Address of {y} is:\",id(y))\n",
    "id(x)==id(y)"
   ]
  },
  {
   "cell_type": "code",
   "execution_count": 97,
   "id": "90b13adf",
   "metadata": {},
   "outputs": [
    {
     "name": "stdout",
     "output_type": "stream",
     "text": [
      "{}\n"
     ]
    }
   ],
   "source": [
    "#122\n",
    "data={\"x\":200}\n",
    "data.clear()\n",
    "print(data)"
   ]
  },
  {
   "cell_type": "code",
   "execution_count": 99,
   "id": "94a48c31",
   "metadata": {},
   "outputs": [
    {
     "name": "stdout",
     "output_type": "stream",
     "text": [
      "enter string: Momo\n"
     ]
    },
    {
     "data": {
      "text/plain": [
       "False"
      ]
     },
     "execution_count": 99,
     "metadata": {},
     "output_type": "execute_result"
    }
   ],
   "source": [
    "#128\n",
    "data=input(\"enter string: \")\n",
    "data.islower()"
   ]
  },
  {
   "cell_type": "code",
   "execution_count": 100,
   "id": "7cb98e3a",
   "metadata": {},
   "outputs": [
    {
     "name": "stdout",
     "output_type": "stream",
     "text": [
      "enter a string: momo\n"
     ]
    },
    {
     "data": {
      "text/plain": [
       "'000000momo'"
      ]
     },
     "execution_count": 100,
     "metadata": {},
     "output_type": "execute_result"
    }
   ],
   "source": [
    "#129\n",
    "data=input(\"enter a string: \")\n",
    "data.zfill(10)"
   ]
  },
  {
   "cell_type": "code",
   "execution_count": 101,
   "id": "a91a0f17",
   "metadata": {},
   "outputs": [
    {
     "name": "stdout",
     "output_type": "stream",
     "text": [
      "enter string: momo\n",
      "\"momo\"\n"
     ]
    }
   ],
   "source": [
    "#130\n",
    "data=input(\"enter string: \")\n",
    "print(f'''\"{data}\"''')"
   ]
  },
  {
   "cell_type": "code",
   "execution_count": 103,
   "id": "8bad1c0d",
   "metadata": {},
   "outputs": [],
   "source": [
    "#133\n",
    "# import datetime\n",
    "# x=datetime.datetime.time()\n",
    "# y=datetime.datetime.now()\n",
    "# print(x-y)"
   ]
  },
  {
   "cell_type": "code",
   "execution_count": 104,
   "id": "07f3b3ee",
   "metadata": {},
   "outputs": [
    {
     "name": "stdout",
     "output_type": "stream",
     "text": [
      "Enter number: 3\n",
      "Value of x is \"3\" \n"
     ]
    }
   ],
   "source": [
    "#135\n",
    "x=int(input(\"Enter number: \"))\n",
    "print(f'''Value of x is \"{x}\" ''')"
   ]
  },
  {
   "cell_type": "code",
   "execution_count": 105,
   "id": "5cc238ad",
   "metadata": {},
   "outputs": [
    {
     "name": "stdout",
     "output_type": "stream",
     "text": [
      "enter either true or false: true\n",
      "0\n"
     ]
    }
   ],
   "source": [
    "#138\n",
    "data=input(\"enter either true or false: \")\n",
    "if((data==\"true\") or (data==\"True\")):\n",
    "    print(\"0\")\n",
    "if((data==\"false\") or (data==\"False\")):\n",
    "    print(\"1\")"
   ]
  },
  {
   "cell_type": "code",
   "execution_count": 111,
   "id": "1941d480",
   "metadata": {},
   "outputs": [
    {
     "name": "stdout",
     "output_type": "stream",
     "text": [
      "enter value: 7\n",
      "integer\n"
     ]
    }
   ],
   "source": [
    "#144\n",
    "data=eval(input(\"enter value: \"))\n",
    "if(type(data)==int):\n",
    "    print(\"integer\")\n",
    "elif(type(data)==str):\n",
    "    print(\"String\")"
   ]
  },
  {
   "cell_type": "code",
   "execution_count": 114,
   "id": "56715425",
   "metadata": {},
   "outputs": [],
   "source": [
    "# #145\n",
    "# data=eval(input(\"Enter values: \"))\n",
    "# if(type(data)==list):\n",
    "#     print(\"List\")\n",
    "# elif(type(data)==tuple):\n",
    "#     print(\"Tuple\")\n",
    "# elif(type(data)==set):\n",
    "#     print(\"Set\")"
   ]
  },
  {
   "cell_type": "code",
   "execution_count": 115,
   "id": "450cffdd",
   "metadata": {},
   "outputs": [
    {
     "name": "stdout",
     "output_type": "stream",
     "text": [
      "enter number 1: 2\n",
      "enter number 2: 3\n",
      "False\n"
     ]
    }
   ],
   "source": [
    "#147\n",
    "a=int(input(\"enter number 1: \"))\n",
    "b=int(input(\"enter number 2: \"))\n",
    "if((a%b==0) or (b%a==0)):\n",
    "    print(\"True\")\n",
    "else:\n",
    "    print(\"False\")"
   ]
  },
  {
   "cell_type": "code",
   "execution_count": 116,
   "id": "0832371c",
   "metadata": {},
   "outputs": [
    {
     "name": "stdout",
     "output_type": "stream",
     "text": [
      "enter number: 3\n",
      "36\n"
     ]
    }
   ],
   "source": [
    "#149\n",
    "n=int(input(\"enter number: \"))\n",
    "i=0\n",
    "res=0\n",
    "for i in range(0,n+1):\n",
    "    res+=int(i)**3\n",
    "print(res)"
   ]
  },
  {
   "cell_type": "markdown",
   "id": "2a4fb474",
   "metadata": {},
   "source": [
    "## Conditional Statements and Loops"
   ]
  },
  {
   "cell_type": "code",
   "execution_count": null,
   "id": "c70f09b4",
   "metadata": {},
   "outputs": [],
   "source": [
    "#1\n",
    "for data in range(1500,2700):\n",
    "    if(data%5==0)and(data%7==0):\n",
    "        print(data)"
   ]
  },
  {
   "cell_type": "code",
   "execution_count": null,
   "id": "4ab861d0",
   "metadata": {},
   "outputs": [],
   "source": [
    "#4\n",
    "for n in range(0,5):\n",
    "    print(\"*\"*n)\n",
    "for n in range(5,0,-1):\n",
    "    print(\"*\"*n)"
   ]
  },
  {
   "cell_type": "code",
   "execution_count": null,
   "id": "d74749cb",
   "metadata": {},
   "outputs": [],
   "source": [
    "#5\n",
    "data=input(\"enter a word: \")\n",
    "data[::-1]"
   ]
  },
  {
   "cell_type": "code",
   "execution_count": null,
   "id": "da6a7d16",
   "metadata": {},
   "outputs": [],
   "source": [
    "#6\n",
    "data=input(\"enter numbers:\")\n",
    "odd=[]\n",
    "even=[]\n",
    "for x in data.split():\n",
    "    if x%2==1:\n",
    "        odd.append(x)\n",
    "    else:\n",
    "        even.append(x)\n",
    "print(\"No. of Odds\",len(odd))\n",
    "print(\"No. of even\",len(even))"
   ]
  },
  {
   "cell_type": "code",
   "execution_count": null,
   "id": "7b551eec",
   "metadata": {},
   "outputs": [],
   "source": [
    "#7\n",
    "datalist = [1452, 11.23, 1+2j, True, 'w3resource', (0, -1), [5, 12], {\"class\":'V', \"section\":'A'}]\n",
    "for x in datalist:\n",
    "    print(f\"Item:{x} and Datatype is {type(x)}\")"
   ]
  },
  {
   "cell_type": "code",
   "execution_count": null,
   "id": "9f2ac2b1",
   "metadata": {},
   "outputs": [],
   "source": [
    "#8\n",
    "res=list(range(0,7))\n",
    "res.remove(3)\n",
    "res.remove(6)\n",
    "print(res)"
   ]
  },
  {
   "cell_type": "code",
   "execution_count": null,
   "id": "7d01b99a",
   "metadata": {},
   "outputs": [],
   "source": [
    "#9\n",
    "for data in range(0,50):\n",
    "    print(data)"
   ]
  },
  {
   "cell_type": "code",
   "execution_count": null,
   "id": "164574e6",
   "metadata": {},
   "outputs": [],
   "source": [
    "#10\n",
    "for data in range(1,51):\n",
    "    if data%3==0:\n",
    "        print(\"fizz\")\n",
    "    if data%5==0:\n",
    "        print(\"buzz\")\n",
    "    if data%3==0 and data%5==0:\n",
    "        print('fizzbuzz')\n",
    "    else: \n",
    "        print(data)\n",
    "print(data)"
   ]
  },
  {
   "cell_type": "code",
   "execution_count": null,
   "id": "fb830b02",
   "metadata": {},
   "outputs": [],
   "source": [
    "letters=[]\n",
    "digits=[]\n",
    "data=input(\"Enter value: \")\n",
    "for x in data:\n",
    "    if x.isdigit():\n",
    "        digits.append(x)\n",
    "    elif x.isalpha():\n",
    "        letters.append(x)\n",
    "print(\"Letters: \",len(letters))\n",
    "print(\"Digits: \",len(digits))"
   ]
  },
  {
   "cell_type": "code",
   "execution_count": null,
   "id": "3a0d4ff4",
   "metadata": {},
   "outputs": [],
   "source": [
    "#31\n",
    "h=int(input(\"enter human years: \"))\n",
    "print(\"dogs years\",((2*10.5)+(h-2)*4))"
   ]
  },
  {
   "cell_type": "code",
   "execution_count": null,
   "id": "92d8277f",
   "metadata": {},
   "outputs": [],
   "source": [
    "#32\n",
    "vowels=['a','e','i','o','u']\n",
    "x=input(\"enter letter: \")\n",
    "print(\"vowel\") if x in vowels else print(\"consonent\")"
   ]
  },
  {
   "cell_type": "code",
   "execution_count": null,
   "id": "dcbdb074",
   "metadata": {},
   "outputs": [],
   "source": [
    "#33\n",
    "list1=[\"jan\",\"mar\",\"may\",\"jul\",\"aug\",\"octo\",\"dec\"]\n",
    "list2=[\"apr\",\"jun\",\"sept\",\"nov\"]\n",
    "x=input(\"enter month: \")\n",
    "if x in list1:\n",
    "    print(\"31\")\n",
    "if x in list2:\n",
    "    print (\"30\")\n",
    "if x==\"feb\":\n",
    "    print(\"28/29\")"
   ]
  },
  {
   "cell_type": "code",
   "execution_count": null,
   "id": "086526bb",
   "metadata": {},
   "outputs": [],
   "source": [
    "#34\n",
    "a=int(input(\"enter num1: \"))\n",
    "b=int(input(\"enter num2: \"))\n",
    "20 if (a+b>14 and a+b<21) else a+b"
   ]
  },
  {
   "cell_type": "code",
   "execution_count": null,
   "id": "afacf816",
   "metadata": {},
   "outputs": [],
   "source": [
    "#35\n",
    "data=input(\"enter: \")\n",
    "if type(data)==int:\n",
    "    print(\"It is int\")\n",
    "else:\n",
    "    print(\"Not int\")"
   ]
  },
  {
   "cell_type": "code",
   "execution_count": null,
   "id": "2319ba3d",
   "metadata": {},
   "outputs": [],
   "source": [
    "#36\n",
    "x=int(input(\"enter side 1: \"))\n",
    "y=int(input(\"enter side 2: \"))\n",
    "z=int(input(\"enter side 3: \"))\n",
    "if x==y==z:\n",
    "    print(\"equi\")\n",
    "elif x!=y!=z:\n",
    "    print(\"scalene\")\n",
    "elif (x!=y and x==z) or (x!=z and x==y) or (y!=x and y==z):\n",
    "    print(\"iso\")"
   ]
  },
  {
   "cell_type": "code",
   "execution_count": null,
   "id": "cfb2cd26",
   "metadata": {},
   "outputs": [],
   "source": [
    "#37,38 and 39\n",
    "#doable too lengthy"
   ]
  },
  {
   "cell_type": "code",
   "execution_count": null,
   "id": "58ca6bcc",
   "metadata": {},
   "outputs": [],
   "source": [
    "#40\n",
    "a=int(input(\"enter a: \"))\n",
    "b=int(input(\"enter b: \"))\n",
    "c=int(input(\"enter c: \"))\n",
    "x=[a,b,c]\n",
    "x.sort()\n",
    "print(\"Median=\",x[1])"
   ]
  },
  {
   "cell_type": "code",
   "execution_count": null,
   "id": "a1d90814",
   "metadata": {},
   "outputs": [],
   "source": [
    "#41\n",
    "y=int(input(\"Enter year: \"))\n",
    "m=int(input(\"Enter month: \"))\n",
    "d=int(input(\"Enter date: \"))\n",
    "print(f\"The next day is going to be ({d+1}:{m}:{y})\")"
   ]
  },
  {
   "cell_type": "code",
   "execution_count": null,
   "id": "44c4a1b8",
   "metadata": {},
   "outputs": [],
   "source": [
    "#42\n",
    "data=input(\"enter numbers: \").split(',')\n",
    "res=0\n",
    "for i in data:\n",
    "    res+=int(i)\n",
    "print(\"Sum is \",res)\n",
    "print(\"Average is \",res/len(data))"
   ]
  },
  {
   "cell_type": "code",
   "execution_count": null,
   "id": "515aca7d",
   "metadata": {},
   "outputs": [],
   "source": [
    "#43\n",
    "n=int(input(\"Enter number from 1-10: \"))\n",
    "for j in range(1,11):\n",
    "    j+=j\n",
    "    print(f\"{n}x{j}={n*j}\")"
   ]
  },
  {
   "cell_type": "code",
   "execution_count": null,
   "id": "cd9a573e",
   "metadata": {},
   "outputs": [],
   "source": [
    "#44\n",
    "for n in range(1,10):\n",
    "    print(str(n)*n)"
   ]
  },
  {
   "cell_type": "markdown",
   "id": "5776dca0",
   "metadata": {},
   "source": [
    "## Basic II: Python Exercises"
   ]
  },
  {
   "cell_type": "code",
   "execution_count": null,
   "id": "db6a9221",
   "metadata": {},
   "outputs": [],
   "source": [
    "#1\n",
    "data=input(\"Enter values: \").split(',')\n",
    "for i in data:\n",
    "    if data.count(i)>1:\n",
    "        print(\"There is repeat\")\n",
    "    else:\n",
    "        print(\"All values are unique\")"
   ]
  },
  {
   "cell_type": "code",
   "execution_count": null,
   "id": "8fc376bd",
   "metadata": {},
   "outputs": [],
   "source": []
  },
  {
   "cell_type": "code",
   "execution_count": null,
   "id": "deefc174",
   "metadata": {},
   "outputs": [],
   "source": []
  },
  {
   "cell_type": "code",
   "execution_count": null,
   "id": "f6ae2c66",
   "metadata": {},
   "outputs": [],
   "source": []
  },
  {
   "cell_type": "code",
   "execution_count": null,
   "id": "17ca6da9",
   "metadata": {},
   "outputs": [],
   "source": []
  },
  {
   "cell_type": "code",
   "execution_count": null,
   "id": "ea921926",
   "metadata": {},
   "outputs": [],
   "source": []
  },
  {
   "cell_type": "code",
   "execution_count": null,
   "id": "137a98bd",
   "metadata": {},
   "outputs": [],
   "source": []
  },
  {
   "cell_type": "code",
   "execution_count": null,
   "id": "2e0c0a9f",
   "metadata": {},
   "outputs": [],
   "source": []
  },
  {
   "cell_type": "code",
   "execution_count": null,
   "id": "fe74fdb7",
   "metadata": {},
   "outputs": [],
   "source": []
  },
  {
   "cell_type": "code",
   "execution_count": null,
   "id": "f9fa3138",
   "metadata": {},
   "outputs": [],
   "source": []
  },
  {
   "cell_type": "code",
   "execution_count": null,
   "id": "c6af1b28",
   "metadata": {},
   "outputs": [],
   "source": []
  },
  {
   "cell_type": "code",
   "execution_count": null,
   "id": "3a3dc31c",
   "metadata": {},
   "outputs": [],
   "source": []
  },
  {
   "cell_type": "markdown",
   "id": "c29c2470",
   "metadata": {},
   "source": [
    "## PYTHON PUZZLES"
   ]
  },
  {
   "cell_type": "code",
   "execution_count": null,
   "id": "4f8b654b",
   "metadata": {},
   "outputs": [],
   "source": [
    "#1\n",
    "data=input('Enter list: ')\n",
    "if data.count('19')==2:\n",
    "    if data.count('5')>2:\n",
    "        print(True)\n",
    "else:\n",
    "    print(False)"
   ]
  },
  {
   "cell_type": "code",
   "execution_count": null,
   "id": "f8ec87d0",
   "metadata": {},
   "outputs": [],
   "source": [
    "#2\n",
    "data=input('Enter list: ').split(',')\n",
    "if len(data)==8:\n",
    "    if data.count(data[4])==3:\n",
    "        print(True)"
   ]
  },
  {
   "cell_type": "code",
   "execution_count": null,
   "id": "7643b9e3",
   "metadata": {},
   "outputs": [],
   "source": [
    "#3\n",
    "data=int(input('Enter the value: '))\n",
    "if data>4**4:\n",
    "    print('Data is greater than 4**4')\n",
    "else:\n",
    "          print('Data is lesser than or equal to 4**4')"
   ]
  },
  {
   "cell_type": "code",
   "execution_count": null,
   "id": "39c041bb",
   "metadata": {},
   "outputs": [],
   "source": [
    "#4: Didnt understand question phrasing\n",
    "#5\n",
    "data = input('Enter the list: ')split(',')\n",
    "data[-1].endswith(data[-2])"
   ]
  },
  {
   "cell_type": "code",
   "execution_count": null,
   "id": "c5e25fa5",
   "metadata": {},
   "outputs": [],
   "source": [
    "#6\n",
    "nums=list(range(0,1000,10))\n",
    "print(nums)"
   ]
  },
  {
   "cell_type": "code",
   "execution_count": null,
   "id": "f0f2bbad",
   "metadata": {},
   "outputs": [],
   "source": [
    "#7\n",
    "data=input('Enter list: ')\n",
    "n=int(input('Enter the desired number: '))\n",
    "drata=data.split(',')[0:n]\n",
    "res=0\n",
    "for i in drata:\n",
    "    res+=int(i)\n",
    "if n==res:\n",
    "    print(True)\n",
    "else:\n",
    "    print(False)"
   ]
  },
  {
   "cell_type": "markdown",
   "id": "4987f60a",
   "metadata": {},
   "source": [
    "## Lists"
   ]
  },
  {
   "cell_type": "code",
   "execution_count": null,
   "id": "4b850ff7",
   "metadata": {},
   "outputs": [],
   "source": [
    "#1\n",
    "data=input(\"Enter list: \").split(',')\n",
    "res=0\n",
    "for x in data:\n",
    "    res+=int(x)\n",
    "print(res)"
   ]
  },
  {
   "cell_type": "code",
   "execution_count": null,
   "id": "b7edfd1f",
   "metadata": {},
   "outputs": [],
   "source": [
    "#2\n",
    "data=input(\"Enter list: \")\n",
    "res=1\n",
    "for x in data.split(','):\n",
    "    res*=int(x)\n",
    "print(res)"
   ]
  },
  {
   "cell_type": "code",
   "execution_count": null,
   "id": "29d57514",
   "metadata": {},
   "outputs": [],
   "source": [
    "#3\n",
    "numberss=[56,678,34218,6,9,400000]\n",
    "max(numberss)"
   ]
  },
  {
   "cell_type": "code",
   "execution_count": null,
   "id": "b13b0a70",
   "metadata": {},
   "outputs": [],
   "source": [
    "#4\n",
    "numberss=[56,678,34218,6,9,400000]\n",
    "min(numberss)"
   ]
  },
  {
   "cell_type": "code",
   "execution_count": null,
   "id": "d9dd557c",
   "metadata": {},
   "outputs": [],
   "source": [
    "#5\n",
    "data=input(\"Enter list: \")\n",
    "for x in data.split(','):\n",
    "    if len(x)>2:\n",
    "        if x[0]==x[-1]:\n",
    "            print(x)"
   ]
  },
  {
   "cell_type": "code",
   "execution_count": null,
   "id": "a388e4e8",
   "metadata": {},
   "outputs": [],
   "source": [
    "#6\n",
    "data=input('enter the list: ').split(';')\n",
    "for i in data:\n",
    "    print(type(i))"
   ]
  },
  {
   "cell_type": "code",
   "execution_count": null,
   "id": "01a76170",
   "metadata": {},
   "outputs": [],
   "source": [
    "#7\n",
    "data=input('Enter a list: ')\n",
    "newdata=set(data)\n",
    "newdata.remove(',')\n",
    "print(newdata)"
   ]
  },
  {
   "cell_type": "code",
   "execution_count": null,
   "id": "9dd4854d",
   "metadata": {},
   "outputs": [],
   "source": [
    "#8\n",
    "data=input('Enter a list: ').split(',')\n",
    "if len(data)=='0':\n",
    "    print('List is empty')\n",
    "else:\n",
    "    print('List is not empty')"
   ]
  },
  {
   "cell_type": "code",
   "execution_count": null,
   "id": "abc5b5b0",
   "metadata": {},
   "outputs": [],
   "source": [
    "#9\n",
    "data=[1,2,3,4,5]\n",
    "temp=data.copy()\n",
    "print('OG data: ',data)\n",
    "print('Copied data: ',temp)"
   ]
  },
  {
   "cell_type": "code",
   "execution_count": null,
   "id": "87b87976",
   "metadata": {},
   "outputs": [],
   "source": [
    "#10\n",
    "n=int(input('Enter the length of letters: '))\n",
    "data=input('Enter list of words ')\n",
    "for x in data.split(','):\n",
    "    if len(x)>n:\n",
    "        print(x)"
   ]
  },
  {
   "cell_type": "code",
   "execution_count": null,
   "id": "8099d4ce",
   "metadata": {},
   "outputs": [],
   "source": [
    "#11\n",
    "a1=input('Enter list 1: ')\n",
    "a2=input('Enter list 2: ')\n",
    "for i in a1:\n",
    "    for j in a2:\n",
    "        if i==j:\n",
    "            print(True)"
   ]
  },
  {
   "cell_type": "code",
   "execution_count": null,
   "id": "4847b021",
   "metadata": {},
   "outputs": [],
   "source": [
    "#12\n",
    "data=input(\"Enter list: \").split(',')\n",
    "data.pop(0)\n",
    "data.pop(3)\n",
    "data.pop(3)\n",
    "print(data)"
   ]
  },
  {
   "cell_type": "code",
   "execution_count": null,
   "id": "66268ea8",
   "metadata": {},
   "outputs": [],
   "source": [
    "#14\n",
    "data=input(\"Enter list: \").split(',')\n",
    "for i in data:\n",
    "    if int(i)%2==0:\n",
    "        data.remove(i)\n",
    "print(data)"
   ]
  },
  {
   "cell_type": "code",
   "execution_count": null,
   "id": "25c848eb",
   "metadata": {},
   "outputs": [],
   "source": [
    "#15\n",
    "from random import shuffle\n",
    "data=input(\"Enter list: \").split(',')\n",
    "shuffle(data)\n",
    "print(data)"
   ]
  },
  {
   "cell_type": "code",
   "execution_count": null,
   "id": "599bc48c",
   "metadata": {},
   "outputs": [],
   "source": [
    "#24\n",
    "res=[]\n",
    "data=input(\"Enter list: \").split(',')\n",
    "res.append(data)\n",
    "print(res)"
   ]
  },
  {
   "cell_type": "markdown",
   "id": "1733780d",
   "metadata": {},
   "source": [
    "## FUNCTIONS"
   ]
  },
  {
   "cell_type": "code",
   "execution_count": 117,
   "id": "a32ee304",
   "metadata": {},
   "outputs": [
    {
     "name": "stdout",
     "output_type": "stream",
     "text": [
      "18\n"
     ]
    }
   ],
   "source": [
    "#1\n",
    "def maxnum(a,b,c):\n",
    "    print(max(a,b,c))\n",
    "maxnum(9,18,5)"
   ]
  },
  {
   "cell_type": "code",
   "execution_count": 118,
   "id": "e64427b4",
   "metadata": {},
   "outputs": [
    {
     "data": {
      "text/plain": [
       "20"
      ]
     },
     "execution_count": 118,
     "metadata": {},
     "output_type": "execute_result"
    }
   ],
   "source": [
    "#2\n",
    "def sumlist(*args):\n",
    "    return sum(args)\n",
    "sumlist(8, 2, 3, 0, 7)"
   ]
  },
  {
   "cell_type": "code",
   "execution_count": 119,
   "id": "88a62adb",
   "metadata": {},
   "outputs": [
    {
     "data": {
      "text/plain": [
       "-336"
      ]
     },
     "execution_count": 119,
     "metadata": {},
     "output_type": "execute_result"
    }
   ],
   "source": [
    "#3\n",
    "def mullist(*args):\n",
    "    res=1\n",
    "    for x in args:\n",
    "        res*=int(x)\n",
    "    return res\n",
    "mullist(8, 2, 3, -1, 7)"
   ]
  },
  {
   "cell_type": "code",
   "execution_count": 120,
   "id": "3ff35f9d",
   "metadata": {},
   "outputs": [
    {
     "name": "stdout",
     "output_type": "stream",
     "text": [
      "dcba4321\n"
     ]
    }
   ],
   "source": [
    "#4\n",
    "def reversestring(x):\n",
    "    print(x[::-1])\n",
    "reversestring('1234abcd')"
   ]
  },
  {
   "cell_type": "code",
   "execution_count": 123,
   "id": "92e79784",
   "metadata": {},
   "outputs": [
    {
     "data": {
      "text/plain": [
       "720"
      ]
     },
     "execution_count": 123,
     "metadata": {},
     "output_type": "execute_result"
    }
   ],
   "source": [
    "#5\n",
    "def factorial(n):\n",
    "    if n == 0:\n",
    "        return 1\n",
    "    else:\n",
    "        return n * factorial(n - 1)\n",
    "    print(factorial(n))\n",
    "factorial(6)"
   ]
  },
  {
   "cell_type": "code",
   "execution_count": 126,
   "id": "09e91aff",
   "metadata": {},
   "outputs": [],
   "source": [
    "#6\n",
    "def rangenum(x):\n",
    "    \"True\" if x in range(1,10) else \"False\"\n",
    "rangenum('2')"
   ]
  },
  {
   "cell_type": "code",
   "execution_count": null,
   "id": "077262be",
   "metadata": {},
   "outputs": [],
   "source": [
    "# #7\n",
    "# def lettercase(x):\n",
    "#     print('Uppercase count is: ')\n",
    "#     print('Lowercase count is: ')\n",
    "# lettercase('The quick Brown Fox')"
   ]
  },
  {
   "cell_type": "code",
   "execution_count": 127,
   "id": "9a0d142e",
   "metadata": {},
   "outputs": [
    {
     "name": "stdout",
     "output_type": "stream",
     "text": [
      "{1, 2, 3, 4, 5, 6, 97}\n"
     ]
    }
   ],
   "source": [
    "#8\n",
    "def uniquelist(*args):\n",
    "    print(set(args))\n",
    "uniquelist(1,2,2,2,2,2,3,5,5,5,6,4,97)"
   ]
  },
  {
   "cell_type": "code",
   "execution_count": null,
   "id": "84f89a4a",
   "metadata": {},
   "outputs": [],
   "source": [
    "#10\n",
    "def evennumb(*args):\n",
    "    args_list=list(args)\n",
    "    for x in args_list:\n",
    "        if x%2==0:\n",
    "            args_list.append(x)\n",
    "    print(args_list)\n",
    "    \n",
    "evennumb(1,2,3,4,5,6)"
   ]
  },
  {
   "cell_type": "code",
   "execution_count": 133,
   "id": "0a4a6cbe",
   "metadata": {},
   "outputs": [],
   "source": [
    "#12\n",
    "def momo(x):\n",
    "    \"It is a palindrome!\" if x==x[::-1] else \"It is not a palindrome!\"\n",
    "momo('madam')"
   ]
  },
  {
   "cell_type": "code",
   "execution_count": null,
   "id": "5984fa62",
   "metadata": {},
   "outputs": [],
   "source": [
    "#16\n",
    "def squarelist(*args):\n",
    "    list_args=list(args)\n",
    "    for x in list_args:\n",
    "        list_args.append(x**3)\n",
    "    print(list_args)\n",
    "squarelist(1,2,3)"
   ]
  }
 ],
 "metadata": {
  "kernelspec": {
   "display_name": "Python 3 (ipykernel)",
   "language": "python",
   "name": "python3"
  },
  "language_info": {
   "codemirror_mode": {
    "name": "ipython",
    "version": 3
   },
   "file_extension": ".py",
   "mimetype": "text/x-python",
   "name": "python",
   "nbconvert_exporter": "python",
   "pygments_lexer": "ipython3",
   "version": "3.11.5"
  }
 },
 "nbformat": 4,
 "nbformat_minor": 5
}
